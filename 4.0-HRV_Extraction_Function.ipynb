{
 "cells": [
  {
   "cell_type": "code",
   "execution_count": 19,
   "metadata": {},
   "outputs": [],
   "source": [
    "import biosignalsnotebooks as bsnb\n",
    "from numpy import linspace, diff, zeros_like, arange, array\n",
    "from scipy import signal\n",
    "from scipy.signal import correlate\n",
    "import scipy as sp\n",
    "from scipy.signal import find_peaks\n",
    "import math\n",
    "from scipy import signal as scisig\n",
    "import neurokit2 as nk\n",
    "import statistics\n",
    "import math\n",
    "\n",
    "from scipy.fft import rfft, rfftfreq\n",
    "from scipy.fft import irfft\n",
    "from scipy.interpolate import interp1d\n",
    "from sklearn.model_selection import train_test_split\n",
    "from sklearn.linear_model import LinearRegression\n",
    "from sklearn.ensemble import IsolationForest\n",
    "from sklearn.metrics import mean_absolute_error\n",
    "from scipy.stats import zscore"
   ]
  },
  {
   "cell_type": "code",
   "execution_count": 20,
   "metadata": {},
   "outputs": [],
   "source": [
    "%run \"3.0 - Functions_peakdetection.ipynb\""
   ]
  },
  {
   "cell_type": "markdown",
   "metadata": {},
   "source": [
    "# 1) HRV Extraction functions\n",
    "## 1.1) R-R extraction"
   ]
  },
  {
   "cell_type": "code",
   "execution_count": 21,
   "metadata": {},
   "outputs": [],
   "source": [
    "def RR_calculator(peaks):\n",
    "    \"\"\" This function aims to calculate the R_R intervals, apply some correction, and plot the R-R intervals vs time (ms)\n",
    "    Input: Dataframe called peaks read from Peaks feather file. Columns in the file are 'x_values' which hold the time for which the peak was detected.\n",
    "    Output: Dataframe called RR_data. Columns in RR_data are: \n",
    "        'x_values' -> the time values of the first peak in the R-R interval\n",
    "        'R-R Interval Raw' -> The RR intervals calculated directly from the peaks\n",
    "        'R-R Interval Final' -> The normalised RR intervals after some outliers have been removed   \n",
    "    \"\"\"\n",
    "    \n",
    "    #Defining and initializing data structures\n",
    "    x_values = peaks['x_values'].values #Taking the x values of the peaks and putting them in an array\n",
    "    RR = []                            #Creating an array to the store the corresponding R_R intervals\n",
    "    RR_data = pd.DataFrame(columns=['x_values','R-R Interval Raw', 'R-R Interval Final']) #Creating a dataframe to store the R_R intervals along their position\n",
    "    \n",
    "    #R-R interval calculation\n",
    "    for index, value in enumerate(x_values): # The for loop ends if the index values get bigger than the array itself.\n",
    "        if index+1 == len(peaks) :\n",
    "            break\n",
    "        diff = x_values[index+1]-x_values[index]\n",
    "        RR.append(diff)\n",
    "\n",
    "    RR_data['x_values']= x_values[0:len(x_values)-1] #Storing the x values and the raw R-R intervals in the data frame\n",
    "    RR_data['R-R Interval Raw']= RR \n",
    "    #Processing the raw R-R interval data by removing the mean, applying a sliding window, and removing the outliers\n",
    "    RR_mean = np.mean(RR) #Mean removal\n",
    "    RR = RR-RR_mean\n",
    " \n",
    "    RR_final = []\n",
    "            \n",
    "# The values that are found to be two standard deviations from the mean are changed by the mean value of the window.\n",
    "    RR_std = statistics.stdev(RR)\n",
    "    for index, value in enumerate(RR):\n",
    "        if value > (RR_mean+2*RR_std):\n",
    "            RR_final.append(RR_mean + 2*RR_std)\n",
    "        elif value < -(RR_mean +2*RR_std):\n",
    "            RR_final.append(-(RR_mean+ 2*RR_std))\n",
    "        else:\n",
    "            RR_final.append(value)\n",
    "    \n",
    "\n",
    "    RR_final=np.array(RR_final) \n",
    "    \n",
    "    RR_data['R-R Interval Final']= RR_final  #Storing the final R-R interval data in the data frame\n",
    "    #RR_data = IQR(RR_data,'R-R Interval Final')\n",
    "    #Plotting the final R_R interval vs x\n",
    "    #plt.plot(RR_data['x_values'], RR_data['R-R Interval Final'])\n",
    "    #plt.xlabel('Time (ms)')\n",
    "    #plt.ylabel('R-R Interval')\n",
    "    #plt.show()\n",
    "\n",
    "    return RR_data\n"
   ]
  },
  {
   "cell_type": "code",
   "execution_count": 22,
   "metadata": {},
   "outputs": [],
   "source": [
    "def _outlier_removal(hrv):\n",
    "    \"\"\"\n",
    "    Inputs\n",
    "    hrv: dataframe extracted from the RR_calculation function.\n",
    "    Outputs\n",
    "    rr: dataframe with the x_values and RR intervals as columns with the outliers removed from the dataframe.\n",
    "    \"\"\"\n",
    "    rr = hrv\n",
    "    z_scores = sp.stats.zscore(rr)\n",
    "    abs_z_scores = np.abs(z_scores)\n",
    "    filtered_entries = (abs_z_scores < 3).all(axis=1)\n",
    "    index_values = []\n",
    "    for index,value in enumerate(filtered_entries):\n",
    "        if value == False:\n",
    "            index_values.append(index)\n",
    "    rr = rr.drop(index_values)\n",
    "    return rr\n",
    "    "
   ]
  },
  {
   "cell_type": "markdown",
   "metadata": {},
   "source": [
    "# 1) Time domain HRV parameters:\n",
    "## 1.1) R-R intervals"
   ]
  },
  {
   "cell_type": "markdown",
   "metadata": {},
   "source": [
    "## 1.2) SDNN"
   ]
  },
  {
   "cell_type": "code",
   "execution_count": 23,
   "metadata": {},
   "outputs": [],
   "source": [
    "#This function aims to calculate SDNN (standard deviation of intervals) and SDNNI (mean of the standard deviation of intervals)\n",
    "def SDNN_calculator(RR_data):\n",
    "    x_values = RR_data['x_values'].values\n",
    "    RR = RR_data['R-R Interval Final'].values\n",
    "    \n",
    "    SDNN = np.std(RR)\n",
    "    print('The SDNN is', SDNN)\n",
    "    \n",
    "    return SDNN"
   ]
  },
  {
   "cell_type": "markdown",
   "metadata": {},
   "source": [
    "## 1.3) RMSSD"
   ]
  },
  {
   "cell_type": "code",
   "execution_count": 24,
   "metadata": {},
   "outputs": [],
   "source": [
    "#This function aims to calculate RMSSD (Root Mean Square of Successive Differences)\n",
    "def RMSSD_calculator(RR_data):\n",
    "    x_values = RR_data['x_values'].values\n",
    "    RR = RR_data['R-R Interval Final'].values\n",
    "    sq_diff=[]\n",
    "    \n",
    "    for index, value in enumerate(RR): # The for loop ends if the index values get bigger than the array itself\n",
    "        if index+1 == len(RR) :\n",
    "            break\n",
    "        diff = RR[index+1]-RR[index]   \n",
    "        sq_diff.append(diff**2)      #Calculate the squared difference and append it to an array\n",
    "    \n",
    "    sq_diff = np.array(sq_diff)\n",
    "    RMSSD = math.sqrt(np.mean(sq_diff))  #Calculate the root square of the mean of the squared differences\n",
    "    print('The RMSSD is', RMSSD)\n",
    "    \n",
    "    return RMSSD"
   ]
  },
  {
   "cell_type": "markdown",
   "metadata": {},
   "source": [
    "## 1.4) PNN50"
   ]
  },
  {
   "cell_type": "code",
   "execution_count": 25,
   "metadata": {},
   "outputs": [],
   "source": [
    "#This function aims to calculate PNN50 (The percentage of adjacent NN intervals that differ from each other by more than 50 ms)\n",
    "def PNN50_calculator(RR_data):\n",
    "    x_values = RR_data['x_values'].values\n",
    "    RR = RR_data['R-R Interval Final'].values\n",
    "    counter=0 \n",
    "    \n",
    "    for index, value in enumerate(RR): # The for loop ends if the index values get bigger than the array itself.\n",
    "        if index+1 == len(RR) :\n",
    "            break\n",
    "        diff = RR[index+1]-RR[index]\n",
    "        if (diff>50):\n",
    "            counter = counter +1\n",
    "    \n",
    "    PNN50= (counter/len(RR))*100\n",
    "    print('The PNN50 is', PNN50, '%')\n",
    "    \n",
    "    return PNN50"
   ]
  },
  {
   "cell_type": "markdown",
   "metadata": {},
   "source": [
    "# 2) Frequency domain parameters\n",
    "## 2.1) Resampling the signal"
   ]
  },
  {
   "cell_type": "code",
   "execution_count": 32,
   "metadata": {},
   "outputs": [],
   "source": [
    "def resample(RR_data , freq):\n",
    "    \"\"\" This function aims to resample the signal with a known sampling rate for further frequency domain analysis\n",
    "    Input: RR_data from the RR_Calculator function and a frequency (freq) for resampling the cubic spline.\n",
    "    Output: Dataframe called new_RR_data. Columns in new_RR_data are: \n",
    "        'x_values' -> the time values of the resampled section\n",
    "        'R-R Interval' -> The new resampled 'R-R Interval Final' \n",
    "    \"\"\"\n",
    "    new_RR_data = pd.DataFrame()\n",
    "    \n",
    "    # Interpolate with a cubic spline\n",
    "    x_values = RR_data['x_values'].values\n",
    "    interpol = interp1d(x_values, RR_data['R-R Interval Final'], kind='cubic')\n",
    "    \n",
    "    #Calculate the number of samples we want and resample\n",
    "    num = int(np.max(x_values)*freq/1000) #Length of the signal * frequency to get total number of samples\n",
    "    new_RR = scipy.signal.resample(interpol(x_values), num) #function is interpol(x_values), num is the number of new samples\n",
    "    \n",
    "    #period = 1000/freq #in ms\n",
    "    \n",
    "    # Some checks\n",
    "#     print(period)\n",
    "#     print(len(new_RR))\n",
    "#     print(len(np.arange(np.min(x_values), np.max(x_values), period)))\n",
    "\n",
    "    # Assigning values to new dataFrame\n",
    "    new_RR_data['R-R Interval Final'] = new_RR\n",
    "    new_RR_data['x_values'] = np.linspace(np.min(x_values), np.max(x_values), num = num) #Set equally spaced x-axis between beginning and end of original x_values\n",
    "    new_RR_data['x_values_seconds'] = np.linspace(np.min(x_values)/1000, np.max(x_values)/1000, num = num)\n",
    "    #np.arange(np.min(x_points), np.max(x_points), period)\n",
    "\n",
    "    return new_RR_data"
   ]
  },
  {
   "cell_type": "markdown",
   "metadata": {},
   "source": [
    "## 2.2) Fast Fourier Transform"
   ]
  },
  {
   "cell_type": "code",
   "execution_count": 35,
   "metadata": {},
   "outputs": [],
   "source": [
    "def _fft(df,rate):\n",
    "    \"\"\" Function definition for the Fast Fourier Transform and plotting the PSD of the signal.\n",
    "    Input: Resampled new_RR_data from the resample function and a rate for the sampling rate used in the resample.\n",
    "    Output: Dataframe called freq_values. Columns in freq_values are: \n",
    "        'Frequency' -> the frequencies \n",
    "        'Power' -> The power at each frequency \n",
    "    \"\"\"\n",
    "    # Initialisation\n",
    "    freq_values = pd.DataFrame()\n",
    "    time = df['x_values']\n",
    "    hrv_signal = df['R-R Interval Final'].values\n",
    "\n",
    "    # Number of samples in normalized_tone\n",
    "    N = len(hrv_signal)\n",
    "\n",
    "    # Calculating fourier transforms\n",
    "    xf = rfftfreq(N, 1 / rate) # Returns the Discrete Fourier Transform sample frequencies\n",
    "    yf = np.abs(rfft(hrv_signal)) # Computes the one-dimensional discrete Fourier Transform for real input.\n",
    "    for index,value in enumerate(xf):\n",
    "        if value < 0.04:\n",
    "            yf[index] = 0\n",
    "    \n",
    "    # Plotting Frequency Domain HRV values\n",
    "    plt.plot(xf, yf)\n",
    "    plt.xlabel('Frequency(Hz)')\n",
    "    plt.ylabel('Power(ms^2)')\n",
    "    \n",
    "    #HF - 0.15-0.4, LF - 0.04-0.15\n",
    "    plt.axvline(x=0.040, color='k')\n",
    "    plt.axvline(x=0.15, color='r')\n",
    "    plt.axvline(x=0.40, color='b')\n",
    "    plt.xlim([0, 0.5])\n",
    "    #plt.title('PSD Healthy Patient')\n",
    "    #plt.show()\n",
    "    \n",
    "    # Save values in new data_frame\n",
    "    freq_values['Frequency'] = xf\n",
    "    freq_values['Power'] = yf\n",
    "    return freq_values"
   ]
  },
  {
   "cell_type": "markdown",
   "metadata": {},
   "source": [
    "## 2.2) High, Low and High/Low Frequency Band Powers"
   ]
  },
  {
   "cell_type": "code",
   "execution_count": 10,
   "metadata": {},
   "outputs": [],
   "source": [
    "def _HFpow(freq_values):\n",
    "    \"\"\"Finds and returns the absolute power of the High Frequency band (0.15-0.4Hz)\n",
    "    Input: freq_values - DataFrame of frequency domain HRV values obtained from the fft.\n",
    "    Output: Absolute power of high frequency band, float\n",
    "    \"\"\"\n",
    "    \n",
    "    # Select Only the High frequency band\n",
    "    HF = freq_values.loc[(freq_values['Frequency'] > 0.15) &  (freq_values['Frequency'] < 0.4)]\n",
    "    HF = HF.reset_index(drop = True)\n",
    "\n",
    "    # Delta of integration, gap between neigbouring frequency points\n",
    "    width = (HF.iloc[1]['Frequency'] - HF.iloc[0]['Frequency'])\n",
    "    \n",
    "    #'Integrate' the HF band to get absolute power\n",
    "    HFpow = 0\n",
    "    for index, row in HF.iterrows():\n",
    "        HFpow += HF.iloc[index]['Power'] * width\n",
    "        \n",
    "    print(\"New formula being used\")\n",
    "    print('The absolute power of the High Frequency band is', HFpow)\n",
    "    return HFpow"
   ]
  },
  {
   "cell_type": "code",
   "execution_count": 11,
   "metadata": {},
   "outputs": [],
   "source": [
    "def _LFpow(freq_values):\n",
    "    \"\"\"Finds and returns the absolute power of the Low Frequency band (0.04-0.15Hz)\n",
    "    Input: freq_values - DataFrame of frequency domain HRV values obtained from the fft.\n",
    "    Output: Absolute power of high frequency band, float\n",
    "    \"\"\"\n",
    "    \n",
    "    # Select Only the Low frequency band\n",
    "    LF = freq_values.loc[(freq_values['Frequency'] > 0.04) &  (freq_values['Frequency'] < 0.15)]\n",
    "    LF = LF.reset_index(drop = True)\n",
    "    \n",
    "    # Delta of integration, gap between neigbouring frequency points\n",
    "    width = (LF.iloc[1]['Frequency'] - LF.iloc[0]['Frequency'])\n",
    "    \n",
    "    #'Integrate' the LF band to get absolute power\n",
    "    LFpow = 0\n",
    "    for index, row in LF.iterrows():\n",
    "        LFpow += LF.iloc[index]['Power'] * width\n",
    "        \n",
    "    print('The absolute power of the Low Frequency band is', LFpow)\n",
    "    return LFpow"
   ]
  },
  {
   "cell_type": "code",
   "execution_count": 12,
   "metadata": {},
   "outputs": [],
   "source": [
    "def _LFHF(freq_values):\n",
    "    \"\"\"Finds and returns the ratio of Low Frequency to High Frequency band powers\n",
    "    Input: freq_values - DataFrame of frequency domain HRV values obtained from the fft.\n",
    "    Output: Absolute power of high, low frequency bands and their ratio, all floats\n",
    "    \"\"\"\n",
    "    LF = _LFpow(freq_values)\n",
    "    HF = _HFpow(freq_values)\n",
    "    LFHF = LF/HF\n",
    "    print('The LF/HF is', LFHF)\n",
    "    return LF, HF, LFHF"
   ]
  },
  {
   "cell_type": "markdown",
   "metadata": {},
   "source": [
    "# 3) Testing the HRV extraction functions with synthetic data"
   ]
  },
  {
   "cell_type": "code",
   "execution_count": 13,
   "metadata": {},
   "outputs": [],
   "source": [
    "# #Testing the functions with synthetic data that has already successfully passed the peak detection\n",
    "# # We generate three different synthethic ECG signals. Library: neurokit2\n",
    "\n",
    "# ecg50 = nk.ecg_simulate(duration=300, sampling_rate=1000, heart_rate=50) # No noise, HR:50\n",
    "# ecg80 = nk.ecg_simulate(duration=300, sampling_rate=1000, heart_rate=80) # No noise, HR:80\n",
    "#ecg100 = nk.ecg_simulate(duration=300, sampling_rate=1000, heart_rate=100) # No noise, HR:100"
   ]
  },
  {
   "cell_type": "code",
   "execution_count": 14,
   "metadata": {},
   "outputs": [],
   "source": [
    " #Plotting the signals \n",
    "\n",
    "\n",
    "# #Filtering the signals and plotting them in each step of the process\n",
    "# peaks = _filteringdet(ecg50,1000)\n",
    "\n",
    "# #Detecting the peaks and plotting them\n",
    "# # plt.plot(ecg50)\n",
    "# # plt.scatter(peaks['x_values'],peaks['y_values'], marker='o', color='r')\n",
    "# # plt.ylabel(\"Amplitude(mV)\")\n",
    "# # plt.xlabel(\"Time (ms)\")\n",
    "# # plt.title(\"Peaks Detected On Original Signal\")\n",
    "# # plt.show()\n",
    "\n",
    "# #Calculate the time domain HRV parameters \n",
    "# RR_data = _hrvreading(peaks)  #Calculating RR intervals\n",
    "# SDNN =  SDNN_calculator(RR_data) #Calculating the SDNN parameter\n",
    "# RMSSD = RMSSD_calculator(RR_data) #Calculating the RMSSD parameter\n",
    "# PNN50 = PNN50_calculator(RR_data) #Calculating the PNN50 parameters\n",
    "\n",
    "# freq_data = _fft(RR_data, 1000)\n",
    "# LFHF = _LFHF(freq_data) #Calculating the frequency parameters\n"
   ]
  },
  {
   "cell_type": "code",
   "execution_count": 15,
   "metadata": {},
   "outputs": [],
   "source": [
    "# peaks = _filteringdet(ecg80,1000)\n",
    "\n",
    "# #Calculate the time domain HRV parameters \n",
    "# RR_data = _hrvreading(peaks)  #Calculating RR intervals\n",
    "# SDNN =  SDNN_calculator(RR_data) #Calculating the SDNN parameter\n",
    "# RMSSD = RMSSD_calculator(RR_data) #Calculating the RMSSD parameter\n",
    "# PNN50 = PNN50_calculator(RR_data) #Calculating the PNN50 parameters\n",
    "\n",
    "# freq_data = _fft(RR_data, 1000)\n",
    "# LFHF = _LFHF(freq_data) #Calculating the frequency parameters"
   ]
  },
  {
   "cell_type": "code",
   "execution_count": 16,
   "metadata": {},
   "outputs": [],
   "source": [
    "#peaks = _filteringdet(ecg100,1000)\n",
    "\n",
    "#Calculate the time domain HRV parameters \n",
    "#RR_data = RR_calculator(peaks)  #Calculating RR intervals\n",
    "#SDNN =  SDNN_calculator(RR_data) #Calculating the SDNN parameter\n",
    "#RMSSD = RMSSD_calculator(RR_data) #Calculating the RMSSD parameter\n",
    "#PNN50 = PNN50_calculator(RR_data) #Calculating the PNN50 parameters\n",
    "\n",
    "#freq_data = _fft(resample(RR_data, 1000), 1000)\n",
    "#LFHF = _LFHF(freq_data) #Calculating the frequency parameters"
   ]
  },
  {
   "cell_type": "code",
   "execution_count": 17,
   "metadata": {},
   "outputs": [],
   "source": [
    "#Testing the functions with synthetic data that has already successfully passed the peak detection\n",
    "# We generate three different synthethic ECG signals. Library: neurokit2\n",
    "\n",
    "#ecg50 = nk.ecg_simulate(duration=300, sampling_rate=1000, heart_rate=50) # No noise, HR:50\n",
    "#ecg80 = nk.ecg_simulate(duration=300, sampling_rate=1000, heart_rate=80) # No noise, HR:80\n",
    "# ecg100 = nk.ecg_simulate(duration=300, sampling_rate=1000, heart_rate=100) # No noise, HR:100"
   ]
  },
  {
   "cell_type": "code",
   "execution_count": 18,
   "metadata": {},
   "outputs": [],
   "source": [
    "#peaks = _filteringdet(ecg80,1000)\n",
    "#RR_data = RR_calculator(peaks)\n",
    "#RR_data.head()\n",
    "#print(len(RR_data))\n",
    "\n",
    "#plt.plot(RR_data['x_values'], RR_data['R-R Interval Final'])\n",
    "#plt.show()\n",
    "\n",
    "#resampled = resample(RR_data, 100)\n",
    "#resampled.head()\n",
    "#plt.plot(resampled['x_values'], resampled['R-R Interval Final'])\n",
    "#plt.show()\n",
    "\n",
    "\n",
    "#ff = _fft(resampled, 100)"
   ]
  }
 ],
 "metadata": {
  "kernelspec": {
   "display_name": "Python 3 (ipykernel)",
   "language": "python",
   "name": "python3"
  },
  "language_info": {
   "codemirror_mode": {
    "name": "ipython",
    "version": 3
   },
   "file_extension": ".py",
   "mimetype": "text/x-python",
   "name": "python",
   "nbconvert_exporter": "python",
   "pygments_lexer": "ipython3",
   "version": "3.9.7"
  }
 },
 "nbformat": 4,
 "nbformat_minor": 4
}
