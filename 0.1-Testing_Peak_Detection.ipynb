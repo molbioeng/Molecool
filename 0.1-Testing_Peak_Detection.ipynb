{
 "cells": [
  {
   "cell_type": "markdown",
   "id": "81ec8a32",
   "metadata": {},
   "source": [
    "# Testing the Peak Detection Algorithm\n",
    "## Quantification of the amount of well detected peaks\n",
    "### CheckList\n",
    "- Genereate clean synthetic ECG signals\n",
    "- Calculate the amount of peaks present\n",
    "- Add noises with different amounts\n",
    "- Check the peaks detected with he agorithm and compare them to the total of them"
   ]
  },
  {
   "cell_type": "code",
   "execution_count": 9,
   "id": "7774bfa3",
   "metadata": {},
   "outputs": [],
   "source": [
    "import os\n",
    "import pandas as pd\n",
    "import numpy as np\n",
    "import matplotlib.pyplot as plt\n",
    "import scipy as sp\n",
    "from scipy import signal\n",
    "import math\n",
    "import statistics\n",
    "import neurokit2 as nk\n",
    "from scipy.signal import butter, filtfilt, iirnotch, savgol_filter\n",
    "import scipy.signal\n",
    "import peakutils.peak\n",
    "import seaborn as sns\n",
    "import padasip as pa\n",
    "import random\n",
    "\n",
    "from misc.noisesynthetic import *\n",
    "from misc.peakdetection import *\n",
    "from misc.peakdetection_v2 import *\n",
    "from misc.peakdetection_v2 import _filteringdet"
   ]
  },
  {
   "cell_type": "code",
   "execution_count": 6,
   "id": "3fd7ea88",
   "metadata": {
    "scrolled": true
   },
   "outputs": [],
   "source": [
    "# We generate a dataframe containing different synthetic clean signals with different HRs.\n",
    "pd_signals = pd.DataFrame()\n",
    "\n",
    "hrs = np.arange(50,130,10) # array containing the different HRs\n",
    "\n",
    "for hr in hrs:\n",
    "    ecg = nk.ecg_simulate(duration=50, sampling_rate=1000, heart_rate=hr) # We generate a synthetic ECG signal for a given HR\n",
    "    normalised = (ecg - np.min(ecg)) / np.max(ecg-np.min(ecg)) # We normalise the signal.\n",
    "    pd_signals['HR'+str(hr)] = ecg # We store it into the dataframe."
   ]
  },
  {
   "cell_type": "code",
   "execution_count": 10,
   "id": "5045ab8e",
   "metadata": {},
   "outputs": [],
   "source": [
    "# We find the peaks of the cleaned singnals and store them into a dataframe: a listcheck panda, our true arrays.\n",
    "true_peaks = {value+':TruePeaks':[] for value in pd_signals} # Dicts where we will save the 'x_values for the true peaks'\n",
    "true_peaks_nk = {value+':TruePeaks':[] for value in pd_signals}\n",
    "num_peaks = []\n",
    "num_peaks_nk = []\n",
    "for column in pd_signals: # For each of the signals stored previously.\n",
    "    peaks_nk = nk.ecg_findpeaks(pd_signals[column], sampling_rate=1000, method=\"elgendi2010\", show=False) # We find the peaks with the 'nk' method\n",
    "    peaks = _filteringdet(pd_signals[column],1000) # We find the peaks with our algorithm.\n",
    "    \n",
    "    num_peaks.append(len(peaks['x_values'])) # We save the total number of them.\n",
    "    num_peaks_nk.append(len(peaks_nk['ECG_R_Peaks'])) # We save the total number of them.\n",
    "        \n",
    "    true_peaks[column+':TruePeaks'] += [value for value in peaks['x_values'].tolist()] # We add the list of peaks into the dictionary.\n",
    "    true_peaks_nk[column+':TruePeaks'] += [value for value in peaks_nk['ECG_R_Peaks'].tolist()]\n",
    "\n",
    "true_peaks = dict([ (k,pd.Series(v)) for k,v in true_peaks.items() ]) # We convert the dictionary into a dataframe\n",
    "true_peaks_nk = dict([ (k,pd.Series(v)) for k,v in true_peaks.items() ])\n",
    "pd_true_peaks = pd.DataFrame(true_peaks)\n",
    "pd_true_peaks_nk = pd.DataFrame(true_peaks_nk)\n"
   ]
  },
  {
   "cell_type": "markdown",
   "id": "ac3f5aee",
   "metadata": {},
   "source": [
    "#### Artifacts\n",
    "- Power Interference\n",
    "- Baseline Wonder\n",
    "- EMG noise\n",
    "- White noise"
   ]
  },
  {
   "cell_type": "code",
   "execution_count": 81,
   "id": "5df9f5a9",
   "metadata": {},
   "outputs": [],
   "source": [
    "# We generate several dataframes adding noise to the signals with different amounts \n",
    "pd_noisy_signals = pd.DataFrame()\n",
    "\n",
    "for column in pd_signals: # Here we add different amounts of artifacts to the signals.\n",
    "    power = powerinterference(pd_signals[column], 1000, amplitude=0.08) # Power noise\n",
    "    bw = gen_bw_noise(power, 0.000008, amplitude=1.5) # Baseline wander\n",
    "    emg = emgnoise(bw,std=0.03) # EMG noise\n",
    "    wn = gen_white_noise(emg,stan=0.02) # White Noise\n",
    "    pd_noisy_signals[column] = wn"
   ]
  },
  {
   "cell_type": "code",
   "execution_count": 82,
   "id": "b39bb9f7",
   "metadata": {},
   "outputs": [
    {
     "name": "stderr",
     "output_type": "stream",
     "text": [
      "/var/folders/79/9_sl0_px0m153y_7w874f1qw0000gn/T/ipykernel_21900/2178537773.py:19: FutureWarning: Support for multi-dimensional indexing (e.g. `obj[:, None]`) is deprecated and will be removed in a future version.  Convert to a numpy array before indexing instead.\n",
      "  difference_array = np.subtract(peaks_nk['ECG_R_Peaks'], pd_true_peaks[column+':TruePeaks'][..., np.newaxis])\n"
     ]
    },
    {
     "name": "stdout",
     "output_type": "stream",
     "text": [
      "[42, 51, 59, 67, 75, 84, 92, 101]\n",
      "[42, 51, 59, 67, 74, 84, 92, 98]\n",
      "[0, 0, 0, 0, 0, 7, 20, 20]\n",
      "\n",
      "\n",
      "MSE\n",
      "[3.6774732526300613, 3.489479988226798, 3.652257254198759, 3.5492273701994823, 5.634418041525377, 2.7945525240230875, 3.3231729206993674, 22.017544759298726]\n",
      "[nan, nan, nan, nan, nan, nan, nan, 20527.453343874648]\n"
     ]
    }
   ],
   "source": [
    "# We detect the peaks using our algorithm and then we compare.\n",
    "detected_indexes = [] # lists where we will store the peaks\n",
    "detected_indexes_nk = []\n",
    "diff_al = [] # The error between the predicted and the real peak will be stored here.\n",
    "diff_nk = []\n",
    "\n",
    "for column in pd_noisy_signals:\n",
    "    peaks = _filteringdet(pd_noisy_signals[column],1000) # for each column in the dataframe we calculate the peaks.\n",
    "    peaks_nk = nk.ecg_findpeaks(pd_noisy_signals[column], sampling_rate=1000, method=\"elgendi2010\", show=False)\n",
    "    true_index = []\n",
    "    true_index_nk = []\n",
    "    \n",
    "    difference_array = np.subtract(peaks['x_values'], pd_true_peaks[column+':TruePeaks']) # We calculate the RMSE\n",
    "    squared_array = np.square(difference_array)\n",
    "    mse = squared_array.mean()\n",
    "    sq = np.sqrt(mse)\n",
    "    diff_al.append(sq)\n",
    "    \n",
    "    difference_array = np.subtract(peaks_nk['ECG_R_Peaks'], pd_true_peaks[column+':TruePeaks'][..., np.newaxis])\n",
    "    squared_array = np.square(difference_array)\n",
    "    mse = squared_array.mean()\n",
    "    sq = np.sqrt(mse)\n",
    "    diff_nk.append(sq)\n",
    "    \n",
    "    for index,value in enumerate(peaks['x_values']): # We compare if the peaks are at the same position, we add a range as the peak detection algorithm adds a shift to the right.\n",
    "        if float('-inf') < float(pd_true_peaks[column+':TruePeaks'][index]) < float('inf'):\n",
    "            if int(pd_true_peaks[column+':TruePeaks'][index])-11 <= value <=int(pd_true_peaks[column+':TruePeaks'][index])+11:\n",
    "                true_index.append(index)\n",
    "    detected_indexes.append(len(true_index))\n",
    "    for index,value in enumerate(peaks_nk['ECG_R_Peaks'][0:100].tolist()): # We compare as well, but with the 'find_peaks' function from nk.\n",
    "        if float('-inf') < float(pd_true_peaks_nk[column+':TruePeaks'][index]) < float('inf'):\n",
    "            if int(pd_true_peaks_nk[column+':TruePeaks'][index])-11 <= value <=int(pd_true_peaks_nk[column+':TruePeaks'][index])+11:\n",
    "                true_index_nk.append(index)\n",
    "    detected_indexes_nk.append(len(true_index_nk))\n",
    "        \n",
    "print(num_peaks)\n",
    "print(detected_indexes)\n",
    "print(detected_indexes_nk)\n",
    "\n",
    "print(\"\\n\")\n",
    "print(\"MSE\")\n",
    "print(diff_al)\n",
    "print(diff_nk)    \n",
    "    "
   ]
  },
  {
   "cell_type": "code",
   "execution_count": null,
   "id": "e2cbecdb",
   "metadata": {},
   "outputs": [],
   "source": []
  },
  {
   "cell_type": "code",
   "execution_count": null,
   "id": "29d895ef",
   "metadata": {},
   "outputs": [],
   "source": []
  }
 ],
 "metadata": {
  "kernelspec": {
   "display_name": "Python 3 (ipykernel)",
   "language": "python",
   "name": "python3"
  },
  "language_info": {
   "codemirror_mode": {
    "name": "ipython",
    "version": 3
   },
   "file_extension": ".py",
   "mimetype": "text/x-python",
   "name": "python",
   "nbconvert_exporter": "python",
   "pygments_lexer": "ipython3",
   "version": "3.9.7"
  }
 },
 "nbformat": 4,
 "nbformat_minor": 5
}
