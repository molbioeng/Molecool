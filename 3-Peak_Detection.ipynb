{
 "cells": [
  {
   "cell_type": "markdown",
   "id": "23b8db66",
   "metadata": {},
   "source": [
    "# Peak Detection\n",
    "This notebook is made for detecting peaks of the snippets extracted in module 2 using the function defined in x\n"
   ]
  },
  {
   "cell_type": "code",
   "execution_count": 13,
   "id": "f78a2440",
   "metadata": {},
   "outputs": [],
   "source": [
    "import os\n",
    "import pandas as pd\n",
    "import numpy as np\n",
    "import matplotlib.pyplot as plt\n",
    "import json\n",
    "import pyarrow.feather as feather\n",
    "from tqdm import tqdm"
   ]
  },
  {
   "cell_type": "code",
   "execution_count": 14,
   "id": "00782900",
   "metadata": {},
   "outputs": [],
   "source": [
    "%run \"Functions_peakdetection.ipynb\""
   ]
  },
  {
   "cell_type": "code",
   "execution_count": 18,
   "id": "ceaabd2b",
   "metadata": {},
   "outputs": [],
   "source": [
    "root = 'G:\\\\.shortcut-targets-by-id\\\\1sZgDE1M3o-bDINfAQYEXl_vqsKs03WxD\\\\Molecool\\\\Databases\\\\Database1'"
   ]
  },
  {
   "cell_type": "code",
   "execution_count": 34,
   "id": "eb494bbe",
   "metadata": {},
   "outputs": [
    {
     "name": "stderr",
     "output_type": "stream",
     "text": [
      "100%|██████████████████████████████████████████████████████████████████████████████████| 57/57 [01:03<00:00,  1.12s/it]\n"
     ]
    }
   ],
   "source": [
    "#Inputting the data in a dataframe \n",
    "\n",
    "patients = sorted(os.listdir(root))\n",
    "for pat in tqdm(patients):     #Looping throught the folder Sxxxx\n",
    "    if not pat.endswith(('.json', 'ini')):\n",
    "        path_pat = root+'\\\\'+pat\n",
    "        folders = sorted(os.listdir(path_pat))\n",
    "        for folder in folders:    #Looping through the different ecg types \n",
    "            if not folder.endswith('.ini'):\n",
    "                path_folder = path_pat + '\\\\' +folder   \n",
    "                snippets = sorted(os.listdir(path_folder)) \n",
    "                for snip_folder in snippets:  #Looping through the snippet folders\n",
    "                    if not snip_folder.endswith(('.json', '.ftr', '.ini')):\n",
    "                        path_snip =path_folder + '\\\\' + snip_folder\n",
    "                        df = pd.read_feather(path_snip + '\\MSNIP.ftr')   #inputting the ecg feather files in a data frame\n",
    "                        with open(path_snip + '\\ManualMeta.json') as json_file:\n",
    "                            meta_data = json.load(json_file)\n",
    "                        df = _filteringdet(df['ecg_0'],1000) \n",
    "                            "
   ]
  },
  {
   "cell_type": "code",
   "execution_count": 36,
   "id": "cd013599",
   "metadata": {},
   "outputs": [
    {
     "name": "stdout",
     "output_type": "stream",
     "text": [
      "        ecg_0  ecg_1\n",
      "0        23.0  -12.0\n",
      "1        24.0  -13.0\n",
      "2        24.0  -12.0\n",
      "3        23.0  -12.0\n",
      "4        23.0  -12.0\n",
      "...       ...    ...\n",
      "299995   -1.0   14.0\n",
      "299996   -1.0   14.0\n",
      "299997   -1.0   13.0\n",
      "299998   -1.0   13.0\n",
      "299999   -1.0   13.0\n",
      "\n",
      "[300000 rows x 2 columns]\n"
     ]
    }
   ],
   "source": [
    "def peaksreading(path,rate)\n"
   ]
  },
  {
   "cell_type": "code",
   "execution_count": null,
   "id": "008719fb",
   "metadata": {},
   "outputs": [],
   "source": []
  }
 ],
 "metadata": {
  "kernelspec": {
   "display_name": "Python 3 (ipykernel)",
   "language": "python",
   "name": "python3"
  },
  "language_info": {
   "codemirror_mode": {
    "name": "ipython",
    "version": 3
   },
   "file_extension": ".py",
   "mimetype": "text/x-python",
   "name": "python",
   "nbconvert_exporter": "python",
   "pygments_lexer": "ipython3",
   "version": "3.9.7"
  }
 },
 "nbformat": 4,
 "nbformat_minor": 5
}
