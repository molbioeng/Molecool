{
 "cells": [
  {
   "cell_type": "markdown",
   "metadata": {},
   "source": [
    "# HRV Parameter Extraction\n",
    "This notebook is used for analysing significance of patient HRV parameters extracted in part 4. \n",
    "\n",
    "To do:\n",
    "- Connect HRV parameters with patient parameters\n",
    "- Apply Mann-Whitney tests to parameters (done)\n",
    "- Initial overview of parameters (includes plotting parameters against each other in 2D, 3D, PCA, compare with values from other databases, how much correlation can be attributed to other factors e.g. age, years from diagnosis, etc.)\n",
    "- (optional) restructure the db to be multiindexed??\n",
    "- Test classification algorithms to set a range for CAN vs control patients...\n",
    "\n",
    "## Initial setup"
   ]
  },
  {
   "cell_type": "code",
   "execution_count": 1,
   "metadata": {},
   "outputs": [],
   "source": [
    "import os\n",
    "import pandas as pd\n",
    "import numpy as np\n",
    "import matplotlib.pyplot as plt\n",
    "import json\n",
    "import pyarrow.feather as feather\n",
    "from tqdm import tqdm\n",
    "from scipy.stats import mannwhitneyu"
   ]
  },
  {
   "cell_type": "code",
   "execution_count": 7,
   "metadata": {},
   "outputs": [],
   "source": [
    "root = 'G:\\My Drive\\Molecool\\Databases\\Database1'\n",
    "#root = '/Volumes/GoogleDrive/.shortcut-targets-by-id/1sZgDE1M3o-bDINfAQYEXl_vqsKs03WxD/Molecool/Databases/Database1'"
   ]
  },
  {
   "cell_type": "markdown",
   "metadata": {},
   "source": [
    "## Functions"
   ]
  },
  {
   "cell_type": "code",
   "execution_count": 8,
   "metadata": {},
   "outputs": [],
   "source": [
    "def check_clean_valid(path):\n",
    "    \"\"\"Only indicates that the folder is valid if it contains a file named 'CleanParameters.json'\n",
    "    Input: Filepath\n",
    "    Output: True if the folder indexed by the filepath contains a file called CleanParameters.json, False otherwise\"\"\"\n",
    "    return os.path.exists(path + '/CleanParameters.json')"
   ]
  },
  {
   "cell_type": "code",
   "execution_count": 9,
   "metadata": {},
   "outputs": [],
   "source": [
    "def collect_row(parapath, patient, count):\n",
    "    \"\"\"Extracts information about the snippet from the snippet metadata file and inputs, and returns a dictionary ready to be added as a row in a DataFrame\n",
    "    Input: snippet folder path, patient ID, number of the snippet for this patient\n",
    "    Output: Dictionary with information about snippet\"\"\"\n",
    "    with open(parapath + '/CleanParameters.json') as json_file:\n",
    "        row = json.load(json_file)\n",
    "        json_file.close()\n",
    "        \n",
    "    row['Patient'] = patient\n",
    "    row['Count'] = count[-3:]\n",
    "    print(row)\n",
    "    return row"
   ]
  },
  {
   "cell_type": "code",
   "execution_count": 10,
   "metadata": {},
   "outputs": [],
   "source": [
    "def lookup_patient(paradf, root):\n",
    "    \"\"\"Adds patient classifications (diabetic vs control, CAD vs no CAD) by...\n",
    "    ...looking up values in the small metadata file (sdf) associated with the...\n",
    "    ..database and editing the parameter dataframe accordingly\n",
    "    Input: DataFrame of Parameters (paradf), root of the database (root)\n",
    "    Output: Edited paradf\"\"\"\n",
    "    # Load the Small Metadata file\n",
    "    #with open(root + '\\\\SMeta.json') as json_file:\n",
    "    with open(root + '/SMeta.json') as json_file:\n",
    "        sdf = pd.read_json(json_file, orient = 'index')\n",
    "        json_file.close()\n",
    "    \n",
    "    # Add DM/C classification\n",
    "    paradf['CAD'] = (sdf.loc[paradf['Patient']]['CAN Symptoms']).reset_index(drop=True)\n",
    "    \n",
    "    # Add CAN/Not classification\n",
    "    paradf['Diabetic'] = (sdf.loc[paradf['Patient']]['Diabetic']).reset_index(drop=True)\n",
    "    \n",
    "    return paradf"
   ]
  },
  {
   "cell_type": "markdown",
   "metadata": {},
   "source": [
    "## Initial Analysis of clean HRV Snippet Parameters\n",
    "### Load All parameters and classification into DF"
   ]
  },
  {
   "cell_type": "code",
   "execution_count": 11,
   "metadata": {},
   "outputs": [
    {
     "name": "stderr",
     "output_type": "stream",
     "text": [
      " 36%|███████████████▎                           | 20/56 [00:00<00:00, 98.79it/s]"
     ]
    },
    {
     "name": "stdout",
     "output_type": "stream",
     "text": [
      "In snippet folder Snippet000\n",
      "In snippet folder Snippet001\n",
      "{'SDNN': 9.388711176710585, 'RMSSD': 3.7275644651843733, 'PNN50': 0.0, 'LF': 6.972244720053225, 'HF': 5.05258479487378, 'LFHF': 1.3799362114866596, 'Patient': 'S0250', 'Count': '001'}\n",
      "\n",
      "\n",
      "\n",
      "In snippet folder Snippet002\n",
      "In snippet folder Snippet000\n",
      "In snippet folder Snippet000\n",
      "{'SDNN': 19.93502977681763, 'RMSSD': 11.883778830332387, 'PNN50': 0.0, 'LF': 13.341491259583142, 'HF': 19.309388679624874, 'LFHF': 0.6909328659203482, 'Patient': 'S0273', 'Count': '000'}\n",
      "\n",
      "\n",
      "\n",
      "In snippet folder Snippet001\n",
      "{'SDNN': 23.382226136845293, 'RMSSD': 13.006798668165926, 'PNN50': 0.0, 'LF': 19.026568875603836, 'HF': 24.836171091050836, 'LFHF': 0.7660830168165349, 'Patient': 'S0273', 'Count': '001'}\n",
      "\n",
      "\n",
      "\n",
      "In snippet folder Snippet002\n",
      "{'SDNN': 63.1055109941366, 'RMSSD': 82.24981476252546, 'PNN50': 0.3546099290780142, 'LF': 13.725900026784812, 'HF': 24.00461959671393, 'LFHF': 0.5718024387549051, 'Patient': 'S0273', 'Count': '002'}\n",
      "\n",
      "\n",
      "\n",
      "In snippet folder Snippet003\n",
      "In snippet folder Snippet004\n",
      "In snippet folder Snippet000\n",
      "In snippet folder Snippet001\n",
      "In snippet folder Snippet002\n",
      "{'SDNN': 30.02283210242785, 'RMSSD': 17.00215194414246, 'PNN50': 1.6129032258064515, 'LF': 20.888081390275854, 'HF': 14.231384287419843, 'LFHF': 1.4677476883777463, 'Patient': 'S0282', 'Count': '002'}\n",
      "\n",
      "\n",
      "\n",
      "In snippet folder Snippet000\n",
      "In snippet folder Snippet001\n",
      "In snippet folder Snippet002\n",
      "{'SDNN': 8.048376197228723, 'RMSSD': 1.8865766874508803, 'PNN50': 0.0, 'LF': 1.9487797689157493, 'HF': 3.007180518932409, 'LFHF': 0.6480421632977302, 'Patient': 'S0283', 'Count': '002'}\n",
      "\n",
      "\n",
      "\n",
      "In snippet folder Snippet003\n",
      "In snippet folder Snippet000\n",
      "In snippet folder Snippet001\n",
      "In snippet folder Snippet002\n",
      "In snippet folder Snippet000\n",
      "In snippet folder Snippet001\n",
      "{'SDNN': 44.35105855955421, 'RMSSD': 62.7406597860621, 'PNN50': 0.29940119760479045, 'LF': 6.989107548606403, 'HF': 14.51482496850104, 'LFHF': 0.481515110500721, 'Patient': 'S0288', 'Count': '001'}\n",
      "\n",
      "\n",
      "\n",
      "In snippet folder Snippet002\n",
      "In snippet folder Snippet000\n",
      "In snippet folder Snippet001\n",
      "In snippet folder Snippet000\n",
      "In snippet folder Snippet001\n",
      "In snippet folder Snippet002\n",
      "In snippet folder Snippet000\n",
      "In snippet folder Snippet001\n",
      "{'SDNN': 8.737276463521113, 'RMSSD': 3.4300675107775387, 'PNN50': 0.0, 'LF': 5.6112923429799935, 'HF': 4.736355310060457, 'LFHF': 1.1847279132672097, 'Patient': 'S0300', 'Count': '001'}\n",
      "\n",
      "\n",
      "\n",
      "In snippet folder Snippet002\n",
      "In snippet folder Snippet000\n",
      "In snippet folder Snippet001\n",
      "In snippet folder Snippet002\n",
      "In snippet folder Snippet000\n",
      "In snippet folder Snippet000\n",
      "In snippet folder Snippet000\n",
      "{'SDNN': 31.674669436576426, 'RMSSD': 43.212535945485534, 'PNN50': 0.30120481927710846, 'LF': 9.999719940496139, 'HF': 8.540745581165554, 'LFHF': 1.1708251750933762, 'Patient': 'S0310', 'Count': '000'}\n",
      "\n",
      "\n",
      "\n",
      "In snippet folder Snippet001\n",
      "In snippet folder Snippet002\n",
      "In snippet folder Snippet003\n",
      "In snippet folder Snippet004\n",
      "In snippet folder Snippet000\n",
      "In snippet folder Snippet000\n",
      "In snippet folder Snippet001\n",
      "In snippet folder Snippet000\n"
     ]
    },
    {
     "name": "stderr",
     "output_type": "stream",
     "text": [
      "\r",
      " 59%|████████████████████████▊                 | 33/56 [00:00<00:00, 109.55it/s]"
     ]
    },
    {
     "name": "stdout",
     "output_type": "stream",
     "text": [
      "In snippet folder Snippet000\n",
      "In snippet folder Snippet001\n",
      "In snippet folder Snippet002\n",
      "In snippet folder Snippet003\n",
      "In snippet folder Snippet000\n",
      "{'SDNN': 11.532271169457752, 'RMSSD': 2.453352684376911, 'PNN50': 0.0, 'LF': 12.794286503869781, 'HF': 4.9410238621609635, 'LFHF': 2.5893998614032565, 'Patient': 'S0317', 'Count': '000'}\n",
      "\n",
      "\n",
      "\n",
      "In snippet folder Snippet001\n",
      "{'SDNN': 11.628979019021253, 'RMSSD': 2.65742857016037, 'PNN50': 0.0, 'LF': 11.046268972385839, 'HF': 4.628531043127421, 'LFHF': 2.3865604161362737, 'Patient': 'S0317', 'Count': '001'}\n",
      "\n",
      "\n",
      "\n",
      "In snippet folder Snippet002\n",
      "In snippet folder Snippet003\n",
      "In snippet folder Snippet000\n",
      "In snippet folder Snippet001\n",
      "In snippet folder Snippet002\n",
      "{'SDNN': 17.353493026857482, 'RMSSD': 12.088972596005267, 'PNN50': 0.0, 'LF': 21.447789047782887, 'HF': 22.024232541626592, 'LFHF': 0.9738268521841019, 'Patient': 'S0318', 'Count': '002'}\n",
      "\n",
      "\n",
      "\n",
      "In snippet folder Snippet000\n",
      "{'SDNN': 21.730151167534906, 'RMSSD': 8.931980837985538, 'PNN50': 0.0, 'LF': 20.27808756675972, 'HF': 14.761391045301409, 'LFHF': 1.3737247055191517, 'Patient': 'S0326', 'Count': '000'}\n",
      "\n",
      "\n",
      "\n",
      "In snippet folder Snippet001\n",
      "In snippet folder Snippet002\n",
      "In snippet folder Snippet000\n",
      "In snippet folder Snippet001\n",
      "In snippet folder Snippet000\n",
      "In snippet folder Snippet000\n",
      "In snippet folder Snippet001\n",
      "In snippet folder Snippet002\n",
      "In snippet folder Snippet000\n",
      "In snippet folder Snippet001\n",
      "In snippet folder Snippet002\n",
      "{'SDNN': 39.00482090802957, 'RMSSD': 55.15865854007237, 'PNN50': 0.2976190476190476, 'LF': 8.453702497903148, 'HF': 33.68820677944441, 'LFHF': 0.25093952175161066, 'Patient': 'S0366', 'Count': '002'}\n",
      "\n",
      "\n",
      "\n",
      "In snippet folder Snippet003\n",
      "In snippet folder Snippet000\n",
      "In snippet folder Snippet001\n",
      "{'SDNN': 95.18739956131294, 'RMSSD': 23.223453755800968, 'PNN50': 1.3550135501355014, 'LF': 64.8545595204144, 'HF': 46.647248018711885, 'LFHF': 1.3903190922302406, 'Patient': 'S0368', 'Count': '001'}\n",
      "\n",
      "\n",
      "\n",
      "In snippet folder Snippet002\n",
      "In snippet folder Snippet000\n",
      "{'SDNN': 34.44213214880959, 'RMSSD': 12.232309388306282, 'PNN50': 0.6369426751592357, 'LF': 31.81360220854277, 'HF': 20.59657984193521, 'LFHF': 1.5446060682254337, 'Patient': 'S0372', 'Count': '000'}\n",
      "\n",
      "\n",
      "\n",
      "In snippet folder Snippet001\n",
      "In snippet folder Snippet002\n",
      "In snippet folder Snippet000\n",
      "In snippet folder Snippet001\n",
      "In snippet folder Snippet002\n",
      "{'SDNN': 43.8737033199043, 'RMSSD': 57.919661084039056, 'PNN50': 0.7920792079207921, 'LF': 13.570441344916333, 'HF': 13.186894495732492, 'LFHF': 1.029085456724323, 'Patient': 'S0381', 'Count': '002'}\n",
      "\n",
      "\n",
      "\n",
      "In snippet folder Snippet000\n",
      "In snippet folder Snippet000\n",
      "In snippet folder Snippet001\n",
      "In snippet folder Snippet002\n",
      "{'SDNN': 43.18540285327933, 'RMSSD': 54.32710881646028, 'PNN50': 0.22075055187637968, 'LF': 31.555378978866067, 'HF': 20.68561108919948, 'LFHF': 1.525474826090199, 'Patient': 'S0390', 'Count': '002'}\n",
      "\n",
      "\n",
      "\n",
      "In snippet folder Snippet000\n",
      "In snippet folder Snippet001\n",
      "In snippet folder Snippet002\n",
      "In snippet folder Snippet000\n",
      "In snippet folder Snippet001\n",
      "{'SDNN': 75.92137839626913, 'RMSSD': 97.26798663738136, 'PNN50': 0.6756756756756757, 'LF': 12.439273934887428, 'HF': 18.55986515611989, 'LFHF': 0.6702243701800672, 'Patient': 'S0398', 'Count': '001'}\n",
      "\n",
      "\n",
      "\n",
      "In snippet folder Snippet000\n",
      "In snippet folder Snippet001\n",
      "In snippet folder Snippet002\n",
      "In snippet folder Snippet003\n",
      "In snippet folder Snippet004\n",
      "In snippet folder Snippet000\n",
      "In snippet folder Snippet001\n",
      "In snippet folder Snippet002\n",
      "In snippet folder Snippet000\n",
      "In snippet folder Snippet001\n",
      "In snippet folder Snippet002\n",
      "In snippet folder Snippet000\n",
      "{'SDNN': 78.20604709505702, 'RMSSD': 109.90069706659307, 'PNN50': 1.0917030567685588, 'LF': 24.06709174451566, 'HF': 12.927908074798733, 'LFHF': 1.86163852691924, 'Patient': 'S0409', 'Count': '000'}\n",
      "\n",
      "\n",
      "\n",
      "In snippet folder Snippet000\n",
      "In snippet folder Snippet001\n",
      "In snippet folder Snippet002\n",
      "{'SDNN': 93.41085042015386, 'RMSSD': 128.73783098410806, 'PNN50': 0.967741935483871, 'LF': 32.39456597716425, 'HF': 29.46026457340305, 'LFHF': 1.0996020044711448, 'Patient': 'S0416', 'Count': '002'}\n",
      "\n",
      "\n",
      "\n",
      "In snippet folder Snippet003\n",
      "In snippet folder Snippet004\n",
      "In snippet folder Snippet000\n",
      "In snippet folder Snippet001\n",
      "In snippet folder Snippet002\n",
      "In snippet folder Snippet003\n",
      "In snippet folder Snippet004\n",
      "{'SDNN': 67.58779827009073, 'RMSSD': 93.54798896317773, 'PNN50': 0.2898550724637681, 'LF': 38.04774149548582, 'HF': 39.82002485311163, 'LFHF': 0.955492660686089, 'Patient': 'S0420', 'Count': '004'}\n",
      "\n",
      "\n",
      "\n",
      "In snippet folder Snippet000\n",
      "{'SDNN': 27.307740649204145, 'RMSSD': 12.435114614337019, 'PNN50': 0.3134796238244514, 'LF': 29.708832111371173, 'HF': 29.280031381856507, 'LFHF': 1.0146448179621956, 'Patient': 'S0423', 'Count': '000'}\n",
      "\n",
      "\n",
      "\n",
      "In snippet folder Snippet001\n",
      "In snippet folder Snippet002\n"
     ]
    },
    {
     "name": "stderr",
     "output_type": "stream",
     "text": [
      "100%|██████████████████████████████████████████| 56/56 [00:00<00:00, 106.42it/s]"
     ]
    },
    {
     "name": "stdout",
     "output_type": "stream",
     "text": [
      "{'SDNN': 121.1257709294145, 'RMSSD': 133.22161128155173, 'PNN50': 2.3904382470119523, 'LF': 42.24820830605664, 'HF': 45.37848095396615, 'LFHF': 0.9310185669043222, 'Patient': 'S0423', 'Count': '002'}\n",
      "\n",
      "\n",
      "\n",
      "In snippet folder Snippet003\n",
      "{'SDNN': 114.81277882749544, 'RMSSD': 142.7805239109969, 'PNN50': 3.3057851239669422, 'LF': 42.22852024610723, 'HF': 52.4474087813692, 'LFHF': 0.8051593248798975, 'Patient': 'S0423', 'Count': '003'}\n",
      "\n",
      "\n",
      "\n",
      "In snippet folder Snippet004\n",
      "{'SDNN': 37.06227191447537, 'RMSSD': 26.286252646379637, 'PNN50': 3.6885245901639343, 'LF': 52.943301530682284, 'HF': 47.69825919665844, 'LFHF': 1.1099629718644175, 'Patient': 'S0423', 'Count': '004'}\n",
      "\n",
      "\n",
      "\n",
      "In snippet folder Snippet000\n",
      "{'SDNN': 56.88662089527274, 'RMSSD': 81.94437224418324, 'PNN50': 0.35211267605633806, 'LF': 11.101008243962777, 'HF': 15.480341037300938, 'LFHF': 0.7171035972149541, 'Patient': 'S0424', 'Count': '000'}\n",
      "\n",
      "\n",
      "\n",
      "In snippet folder Snippet001\n",
      "In snippet folder Snippet000\n",
      "In snippet folder Snippet001\n",
      "In snippet folder Snippet002\n",
      "{'SDNN': 162.05356407153326, 'RMSSD': 229.53130385297138, 'PNN50': 2.4390243902439024, 'LF': 21.558183268211014, 'HF': 33.17224577998246, 'LFHF': 0.6498861551671047, 'Patient': 'S0426', 'Count': '002'}\n",
      "\n",
      "\n",
      "\n",
      "In snippet folder Snippet003\n",
      "{'SDNN': 65.28387525152615, 'RMSSD': 82.80231210378616, 'PNN50': 8.256880733944955, 'LF': 30.402966045627295, 'HF': 46.054496911890965, 'LFHF': 0.6601519522359054, 'Patient': 'S0426', 'Count': '003'}\n",
      "\n",
      "\n",
      "\n",
      "In snippet folder Snippet004\n",
      "{'SDNN': 68.92870811730833, 'RMSSD': 97.21640120072529, 'PNN50': 2.2222222222222223, 'LF': 21.817404883492802, 'HF': 35.74286774543839, 'LFHF': 0.6103988364581407, 'Patient': 'S0426', 'Count': '004'}\n",
      "\n",
      "\n",
      "\n",
      "In snippet folder Snippet000\n",
      "In snippet folder Snippet001\n",
      "{'SDNN': 25.239195613835783, 'RMSSD': 31.14668587435317, 'PNN50': 5.442176870748299, 'LF': 19.766269701949913, 'HF': 47.46720042194582, 'LFHF': 0.4164195386760422, 'Patient': 'S0427', 'Count': '001'}\n",
      "\n",
      "\n",
      "\n",
      "In snippet folder Snippet002\n",
      "{'SDNN': 31.287439327134503, 'RMSSD': 24.413111231467404, 'PNN50': 4.2105263157894735, 'LF': 23.47350802293822, 'HF': 45.422595914143834, 'LFHF': 0.51678041623396, 'Patient': 'S0427', 'Count': '002'}\n",
      "\n",
      "\n",
      "\n",
      "In snippet folder Snippet003\n",
      "In snippet folder Snippet004\n",
      "{'SDNN': 28.237802346237082, 'RMSSD': 23.554149214214455, 'PNN50': 3.4129692832764507, 'LF': 24.638612267856956, 'HF': 40.90001513548919, 'LFHF': 0.6024108349651413, 'Patient': 'S0427', 'Count': '004'}\n",
      "\n",
      "\n",
      "\n",
      "In snippet folder Snippet000\n",
      "In snippet folder Snippet001\n",
      "In snippet folder Snippet002\n",
      "In snippet folder Snippet003\n",
      "{'SDNN': 58.01693667846641, 'RMSSD': 78.82147895828484, 'PNN50': 0.3105590062111801, 'LF': 12.354673004681919, 'HF': 31.484445079633424, 'LFHF': 0.3924056140558716, 'Patient': 'S0430', 'Count': '003'}\n",
      "\n",
      "\n",
      "\n",
      "In snippet folder Snippet004\n",
      "In snippet folder Snippet000\n",
      "In snippet folder Snippet001\n",
      "In snippet folder Snippet002\n",
      "In snippet folder Snippet003\n",
      "In snippet folder Snippet004\n",
      "In snippet folder Snippet000\n",
      "In snippet folder Snippet001\n",
      "In snippet folder Snippet002\n",
      "In snippet folder Snippet003\n",
      "In snippet folder Snippet004\n",
      "In snippet folder Snippet000\n",
      "In snippet folder Snippet001\n",
      "{'SDNN': 119.86101948389496, 'RMSSD': 166.1012995522953, 'PNN50': 1.0101010101010102, 'LF': 16.23425145210002, 'HF': 14.070138590005046, 'LFHF': 1.1538089229364297, 'Patient': 'S0434', 'Count': '001'}\n",
      "\n",
      "\n",
      "\n",
      "In snippet folder Snippet002\n",
      "In snippet folder Snippet003\n",
      "In snippet folder Snippet004\n",
      "In snippet folder Snippet000\n",
      "{'SDNN': 89.79590603724279, 'RMSSD': 130.3078980917302, 'PNN50': 0.8438818565400843, 'LF': 12.301536545066673, 'HF': 18.45125764737972, 'LFHF': 0.6667045022166077, 'Patient': 'S0435', 'Count': '000'}\n",
      "\n",
      "\n",
      "\n",
      "In snippet folder Snippet001\n",
      "In snippet folder Snippet002\n",
      "In snippet folder Snippet003\n",
      "In snippet folder Snippet004\n",
      "{'SDNN': 24.130380824573542, 'RMSSD': 13.961412988361134, 'PNN50': 0.0, 'LF': 13.420500644565454, 'HF': 18.656644096201962, 'LFHF': 0.7193416230359211, 'Patient': 'S0435', 'Count': '004'}\n",
      "\n",
      "\n",
      "\n",
      "In snippet folder Snippet000\n",
      "In snippet folder Snippet001\n",
      "In snippet folder Snippet002\n",
      "{'SDNN': 114.16276678729977, 'RMSSD': 156.71468071497415, 'PNN50': 10.191082802547772, 'LF': 88.09920954238842, 'HF': 76.0729957635649, 'LFHF': 1.1580878162889894, 'Patient': 'S0441', 'Count': '002'}\n",
      "\n",
      "\n",
      "\n",
      "In snippet folder Snippet003\n",
      "In snippet folder Snippet004\n"
     ]
    },
    {
     "name": "stderr",
     "output_type": "stream",
     "text": [
      "\n"
     ]
    }
   ],
   "source": [
    "rows = []\n",
    "\n",
    "patients = sorted(os.listdir(root))\n",
    "for pat in tqdm(patients):     #Looping throught the folder Sxxxx\n",
    "    if not pat.endswith(('.json', 'ini','\\r')):\n",
    "        path_pat = root+'/'+pat\n",
    "        folders = sorted(os.listdir(path_pat))\n",
    "        for folder in folders:    #Looping through the different ecg types \n",
    "            if not folder.endswith('.ini') and folder != 'Icon\\r':\n",
    "                path_folder = path_pat + '/' +folder   \n",
    "                snippets = sorted(os.listdir(path_folder))\n",
    "                for snip_folder in snippets:  #Looping through the snippet folders\n",
    "                    if not snip_folder.endswith(('.json', '.ftr', '.ini','\\r')):\n",
    "                        print(\"In snippet folder \" + snip_folder)\n",
    "                        \n",
    "                        ### NOW IN CORRECT FOLDER ###\n",
    "                        path_snip =path_folder + '/' + snip_folder\n",
    "                        if check_clean_valid(path_snip):\n",
    "                            rows.append(collect_row(path_snip, pat, snip_folder))\n",
    "                            print('\\n\\n')"
   ]
  },
  {
   "cell_type": "code",
   "execution_count": 12,
   "metadata": {},
   "outputs": [],
   "source": [
    "# Convert collected parameters into dataframe\n",
    "df = pd.DataFrame(rows)"
   ]
  },
  {
   "cell_type": "code",
   "execution_count": 13,
   "metadata": {},
   "outputs": [],
   "source": [
    "def clean_sMeta(root):\n",
    "    \"\"\"Reformats data in small MetaData file and saves it.\n",
    "    Input: Filepath for the folder the small MetaData file is in\"\"\"\n",
    "    #with open(root + '\\\\SMeta.json') as json_file:\n",
    "    with open(root + '/SMeta.json') as json_file:\n",
    "        sdf = pd.read_json(json_file, orient = 'index')\n",
    "        \n",
    "        # Set CAN classification to bool through mapping\n",
    "        #d = {'NO': False, 'YES': True}\n",
    "        #sdf['CAN Symptoms'] = sdf['Neuropathy AUTONOMIC SYMPTOMS'].map(d)\n",
    "        sdf['CAN Symptoms'] = sdf['Neuropathy AUTONOMIC SYMPTOMS']\n",
    "        \n",
    "        # Set DM/Control classification to bool through mapping\n",
    "        d = {'DM': True, 'CONTROL': False}\n",
    "        sdf['Diabetic'] = sdf['Group'].map(d)\n",
    "        \n",
    "        # Drop unnecessary columns\n",
    "        sdf.drop(columns=['Group'])\n",
    "        sdf.drop(columns=['Neuropathy AUTONOMIC SYMPTOMS'])\n",
    "        \n",
    "        # Save edited dataframe\n",
    "        sdf.to_json((root + '/SMeta.json'), orient='index')\n",
    "        json_file.close()\n",
    "        print(sdf)\n",
    "    return"
   ]
  },
  {
   "cell_type": "code",
   "execution_count": 1,
   "metadata": {},
   "outputs": [
    {
     "ename": "NameError",
     "evalue": "name 'clean_sMeta' is not defined",
     "output_type": "error",
     "traceback": [
      "\u001b[0;31m---------------------------------------------------------------------------\u001b[0m",
      "\u001b[0;31mNameError\u001b[0m                                 Traceback (most recent call last)",
      "\u001b[0;32m/var/folders/79/9_sl0_px0m153y_7w874f1qw0000gn/T/ipykernel_2381/198818078.py\u001b[0m in \u001b[0;36m<module>\u001b[0;34m\u001b[0m\n\u001b[0;32m----> 1\u001b[0;31m \u001b[0mclean_sMeta\u001b[0m\u001b[0;34m(\u001b[0m\u001b[0mroot\u001b[0m\u001b[0;34m)\u001b[0m\u001b[0;34m\u001b[0m\u001b[0;34m\u001b[0m\u001b[0m\n\u001b[0m",
      "\u001b[0;31mNameError\u001b[0m: name 'clean_sMeta' is not defined"
     ]
    }
   ],
   "source": [
    "clean_sMeta(root)"
   ]
  },
  {
   "cell_type": "code",
   "execution_count": 20,
   "metadata": {},
   "outputs": [
    {
     "ename": "KeyError",
     "evalue": "'CAN Symptoms'",
     "output_type": "error",
     "traceback": [
      "\u001b[0;31m---------------------------------------------------------------------------\u001b[0m",
      "\u001b[0;31mKeyError\u001b[0m                                  Traceback (most recent call last)",
      "\u001b[0;32m~/opt/anaconda3/envs/HRV/lib/python3.9/site-packages/pandas/core/indexes/base.py\u001b[0m in \u001b[0;36mget_loc\u001b[0;34m(self, key, method, tolerance)\u001b[0m\n\u001b[1;32m   3360\u001b[0m             \u001b[0;32mtry\u001b[0m\u001b[0;34m:\u001b[0m\u001b[0;34m\u001b[0m\u001b[0;34m\u001b[0m\u001b[0m\n\u001b[0;32m-> 3361\u001b[0;31m                 \u001b[0;32mreturn\u001b[0m \u001b[0mself\u001b[0m\u001b[0;34m.\u001b[0m\u001b[0m_engine\u001b[0m\u001b[0;34m.\u001b[0m\u001b[0mget_loc\u001b[0m\u001b[0;34m(\u001b[0m\u001b[0mcasted_key\u001b[0m\u001b[0;34m)\u001b[0m\u001b[0;34m\u001b[0m\u001b[0;34m\u001b[0m\u001b[0m\n\u001b[0m\u001b[1;32m   3362\u001b[0m             \u001b[0;32mexcept\u001b[0m \u001b[0mKeyError\u001b[0m \u001b[0;32mas\u001b[0m \u001b[0merr\u001b[0m\u001b[0;34m:\u001b[0m\u001b[0;34m\u001b[0m\u001b[0;34m\u001b[0m\u001b[0m\n",
      "\u001b[0;32m~/opt/anaconda3/envs/HRV/lib/python3.9/site-packages/pandas/_libs/index.pyx\u001b[0m in \u001b[0;36mpandas._libs.index.IndexEngine.get_loc\u001b[0;34m()\u001b[0m\n",
      "\u001b[0;32m~/opt/anaconda3/envs/HRV/lib/python3.9/site-packages/pandas/_libs/index.pyx\u001b[0m in \u001b[0;36mpandas._libs.index.IndexEngine.get_loc\u001b[0;34m()\u001b[0m\n",
      "\u001b[0;32mpandas/_libs/hashtable_class_helper.pxi\u001b[0m in \u001b[0;36mpandas._libs.hashtable.PyObjectHashTable.get_item\u001b[0;34m()\u001b[0m\n",
      "\u001b[0;32mpandas/_libs/hashtable_class_helper.pxi\u001b[0m in \u001b[0;36mpandas._libs.hashtable.PyObjectHashTable.get_item\u001b[0;34m()\u001b[0m\n",
      "\u001b[0;31mKeyError\u001b[0m: 'CAN Symptoms'",
      "\nThe above exception was the direct cause of the following exception:\n",
      "\u001b[0;31mKeyError\u001b[0m                                  Traceback (most recent call last)",
      "\u001b[0;32m/var/folders/79/9_sl0_px0m153y_7w874f1qw0000gn/T/ipykernel_4513/617191491.py\u001b[0m in \u001b[0;36m<module>\u001b[0;34m\u001b[0m\n\u001b[0;32m----> 1\u001b[0;31m \u001b[0mlookup_patient\u001b[0m\u001b[0;34m(\u001b[0m\u001b[0mdf\u001b[0m\u001b[0;34m,\u001b[0m \u001b[0mroot\u001b[0m\u001b[0;34m)\u001b[0m\u001b[0;34m\u001b[0m\u001b[0;34m\u001b[0m\u001b[0m\n\u001b[0m",
      "\u001b[0;32m/var/folders/79/9_sl0_px0m153y_7w874f1qw0000gn/T/ipykernel_4513/3803528175.py\u001b[0m in \u001b[0;36mlookup_patient\u001b[0;34m(paradf, root)\u001b[0m\n\u001b[1;32m     12\u001b[0m \u001b[0;34m\u001b[0m\u001b[0m\n\u001b[1;32m     13\u001b[0m     \u001b[0;31m# Add DM/C classification\u001b[0m\u001b[0;34m\u001b[0m\u001b[0;34m\u001b[0m\u001b[0m\n\u001b[0;32m---> 14\u001b[0;31m     \u001b[0mparadf\u001b[0m\u001b[0;34m[\u001b[0m\u001b[0;34m'CAD'\u001b[0m\u001b[0;34m]\u001b[0m \u001b[0;34m=\u001b[0m \u001b[0;34m(\u001b[0m\u001b[0msdf\u001b[0m\u001b[0;34m.\u001b[0m\u001b[0mloc\u001b[0m\u001b[0;34m[\u001b[0m\u001b[0mparadf\u001b[0m\u001b[0;34m[\u001b[0m\u001b[0;34m'Patient'\u001b[0m\u001b[0;34m]\u001b[0m\u001b[0;34m]\u001b[0m\u001b[0;34m[\u001b[0m\u001b[0;34m'CAN Symptoms'\u001b[0m\u001b[0;34m]\u001b[0m\u001b[0;34m)\u001b[0m\u001b[0;34m.\u001b[0m\u001b[0mreset_index\u001b[0m\u001b[0;34m(\u001b[0m\u001b[0mdrop\u001b[0m\u001b[0;34m=\u001b[0m\u001b[0;32mTrue\u001b[0m\u001b[0;34m)\u001b[0m\u001b[0;34m\u001b[0m\u001b[0;34m\u001b[0m\u001b[0m\n\u001b[0m\u001b[1;32m     15\u001b[0m \u001b[0;34m\u001b[0m\u001b[0m\n\u001b[1;32m     16\u001b[0m     \u001b[0;31m# Add CAN/Not classification\u001b[0m\u001b[0;34m\u001b[0m\u001b[0;34m\u001b[0m\u001b[0m\n",
      "\u001b[0;32m~/opt/anaconda3/envs/HRV/lib/python3.9/site-packages/pandas/core/frame.py\u001b[0m in \u001b[0;36m__getitem__\u001b[0;34m(self, key)\u001b[0m\n\u001b[1;32m   3456\u001b[0m             \u001b[0;32mif\u001b[0m \u001b[0mself\u001b[0m\u001b[0;34m.\u001b[0m\u001b[0mcolumns\u001b[0m\u001b[0;34m.\u001b[0m\u001b[0mnlevels\u001b[0m \u001b[0;34m>\u001b[0m \u001b[0;36m1\u001b[0m\u001b[0;34m:\u001b[0m\u001b[0;34m\u001b[0m\u001b[0;34m\u001b[0m\u001b[0m\n\u001b[1;32m   3457\u001b[0m                 \u001b[0;32mreturn\u001b[0m \u001b[0mself\u001b[0m\u001b[0;34m.\u001b[0m\u001b[0m_getitem_multilevel\u001b[0m\u001b[0;34m(\u001b[0m\u001b[0mkey\u001b[0m\u001b[0;34m)\u001b[0m\u001b[0;34m\u001b[0m\u001b[0;34m\u001b[0m\u001b[0m\n\u001b[0;32m-> 3458\u001b[0;31m             \u001b[0mindexer\u001b[0m \u001b[0;34m=\u001b[0m \u001b[0mself\u001b[0m\u001b[0;34m.\u001b[0m\u001b[0mcolumns\u001b[0m\u001b[0;34m.\u001b[0m\u001b[0mget_loc\u001b[0m\u001b[0;34m(\u001b[0m\u001b[0mkey\u001b[0m\u001b[0;34m)\u001b[0m\u001b[0;34m\u001b[0m\u001b[0;34m\u001b[0m\u001b[0m\n\u001b[0m\u001b[1;32m   3459\u001b[0m             \u001b[0;32mif\u001b[0m \u001b[0mis_integer\u001b[0m\u001b[0;34m(\u001b[0m\u001b[0mindexer\u001b[0m\u001b[0;34m)\u001b[0m\u001b[0;34m:\u001b[0m\u001b[0;34m\u001b[0m\u001b[0;34m\u001b[0m\u001b[0m\n\u001b[1;32m   3460\u001b[0m                 \u001b[0mindexer\u001b[0m \u001b[0;34m=\u001b[0m \u001b[0;34m[\u001b[0m\u001b[0mindexer\u001b[0m\u001b[0;34m]\u001b[0m\u001b[0;34m\u001b[0m\u001b[0;34m\u001b[0m\u001b[0m\n",
      "\u001b[0;32m~/opt/anaconda3/envs/HRV/lib/python3.9/site-packages/pandas/core/indexes/base.py\u001b[0m in \u001b[0;36mget_loc\u001b[0;34m(self, key, method, tolerance)\u001b[0m\n\u001b[1;32m   3361\u001b[0m                 \u001b[0;32mreturn\u001b[0m \u001b[0mself\u001b[0m\u001b[0;34m.\u001b[0m\u001b[0m_engine\u001b[0m\u001b[0;34m.\u001b[0m\u001b[0mget_loc\u001b[0m\u001b[0;34m(\u001b[0m\u001b[0mcasted_key\u001b[0m\u001b[0;34m)\u001b[0m\u001b[0;34m\u001b[0m\u001b[0;34m\u001b[0m\u001b[0m\n\u001b[1;32m   3362\u001b[0m             \u001b[0;32mexcept\u001b[0m \u001b[0mKeyError\u001b[0m \u001b[0;32mas\u001b[0m \u001b[0merr\u001b[0m\u001b[0;34m:\u001b[0m\u001b[0;34m\u001b[0m\u001b[0;34m\u001b[0m\u001b[0m\n\u001b[0;32m-> 3363\u001b[0;31m                 \u001b[0;32mraise\u001b[0m \u001b[0mKeyError\u001b[0m\u001b[0;34m(\u001b[0m\u001b[0mkey\u001b[0m\u001b[0;34m)\u001b[0m \u001b[0;32mfrom\u001b[0m \u001b[0merr\u001b[0m\u001b[0;34m\u001b[0m\u001b[0;34m\u001b[0m\u001b[0m\n\u001b[0m\u001b[1;32m   3364\u001b[0m \u001b[0;34m\u001b[0m\u001b[0m\n\u001b[1;32m   3365\u001b[0m         \u001b[0;32mif\u001b[0m \u001b[0mis_scalar\u001b[0m\u001b[0;34m(\u001b[0m\u001b[0mkey\u001b[0m\u001b[0;34m)\u001b[0m \u001b[0;32mand\u001b[0m \u001b[0misna\u001b[0m\u001b[0;34m(\u001b[0m\u001b[0mkey\u001b[0m\u001b[0;34m)\u001b[0m \u001b[0;32mand\u001b[0m \u001b[0;32mnot\u001b[0m \u001b[0mself\u001b[0m\u001b[0;34m.\u001b[0m\u001b[0mhasnans\u001b[0m\u001b[0;34m:\u001b[0m\u001b[0;34m\u001b[0m\u001b[0;34m\u001b[0m\u001b[0m\n",
      "\u001b[0;31mKeyError\u001b[0m: 'CAN Symptoms'"
     ]
    }
   ],
   "source": [
    "lookup_patient(df, root)"
   ]
  },
  {
   "cell_type": "markdown",
   "metadata": {},
   "source": [
    "### Initial plots"
   ]
  },
  {
   "cell_type": "code",
   "execution_count": 16,
   "metadata": {},
   "outputs": [
    {
     "ename": "KeyError",
     "evalue": "'Diabetic'",
     "output_type": "error",
     "traceback": [
      "\u001b[0;31m---------------------------------------------------------------------------\u001b[0m",
      "\u001b[0;31mKeyError\u001b[0m                                  Traceback (most recent call last)",
      "\u001b[0;32m~/opt/anaconda3/envs/HRV/lib/python3.9/site-packages/pandas/core/indexes/base.py\u001b[0m in \u001b[0;36mget_loc\u001b[0;34m(self, key, method, tolerance)\u001b[0m\n\u001b[1;32m   3360\u001b[0m             \u001b[0;32mtry\u001b[0m\u001b[0;34m:\u001b[0m\u001b[0;34m\u001b[0m\u001b[0;34m\u001b[0m\u001b[0m\n\u001b[0;32m-> 3361\u001b[0;31m                 \u001b[0;32mreturn\u001b[0m \u001b[0mself\u001b[0m\u001b[0;34m.\u001b[0m\u001b[0m_engine\u001b[0m\u001b[0;34m.\u001b[0m\u001b[0mget_loc\u001b[0m\u001b[0;34m(\u001b[0m\u001b[0mcasted_key\u001b[0m\u001b[0;34m)\u001b[0m\u001b[0;34m\u001b[0m\u001b[0;34m\u001b[0m\u001b[0m\n\u001b[0m\u001b[1;32m   3362\u001b[0m             \u001b[0;32mexcept\u001b[0m \u001b[0mKeyError\u001b[0m \u001b[0;32mas\u001b[0m \u001b[0merr\u001b[0m\u001b[0;34m:\u001b[0m\u001b[0;34m\u001b[0m\u001b[0;34m\u001b[0m\u001b[0m\n",
      "\u001b[0;32m~/opt/anaconda3/envs/HRV/lib/python3.9/site-packages/pandas/_libs/index.pyx\u001b[0m in \u001b[0;36mpandas._libs.index.IndexEngine.get_loc\u001b[0;34m()\u001b[0m\n",
      "\u001b[0;32m~/opt/anaconda3/envs/HRV/lib/python3.9/site-packages/pandas/_libs/index.pyx\u001b[0m in \u001b[0;36mpandas._libs.index.IndexEngine.get_loc\u001b[0;34m()\u001b[0m\n",
      "\u001b[0;32mpandas/_libs/hashtable_class_helper.pxi\u001b[0m in \u001b[0;36mpandas._libs.hashtable.PyObjectHashTable.get_item\u001b[0;34m()\u001b[0m\n",
      "\u001b[0;32mpandas/_libs/hashtable_class_helper.pxi\u001b[0m in \u001b[0;36mpandas._libs.hashtable.PyObjectHashTable.get_item\u001b[0;34m()\u001b[0m\n",
      "\u001b[0;31mKeyError\u001b[0m: 'Diabetic'",
      "\nThe above exception was the direct cause of the following exception:\n",
      "\u001b[0;31mKeyError\u001b[0m                                  Traceback (most recent call last)",
      "\u001b[0;32m/var/folders/79/9_sl0_px0m153y_7w874f1qw0000gn/T/ipykernel_4513/1383461443.py\u001b[0m in \u001b[0;36m<module>\u001b[0;34m\u001b[0m\n\u001b[1;32m      1\u001b[0m \u001b[0;31m# Separating Dataframes\u001b[0m\u001b[0;34m\u001b[0m\u001b[0;34m\u001b[0m\u001b[0m\n\u001b[0;32m----> 2\u001b[0;31m \u001b[0mDM_df\u001b[0m \u001b[0;34m=\u001b[0m \u001b[0mdf\u001b[0m\u001b[0;34m.\u001b[0m\u001b[0mloc\u001b[0m\u001b[0;34m[\u001b[0m\u001b[0mdf\u001b[0m\u001b[0;34m[\u001b[0m\u001b[0;34m'Diabetic'\u001b[0m\u001b[0;34m]\u001b[0m\u001b[0;34m]\u001b[0m\u001b[0;34m\u001b[0m\u001b[0;34m\u001b[0m\u001b[0m\n\u001b[0m\u001b[1;32m      3\u001b[0m \u001b[0;34m\u001b[0m\u001b[0m\n\u001b[1;32m      4\u001b[0m \u001b[0mControl_df\u001b[0m \u001b[0;34m=\u001b[0m \u001b[0mdf\u001b[0m\u001b[0;34m.\u001b[0m\u001b[0mloc\u001b[0m\u001b[0;34m[\u001b[0m\u001b[0mdf\u001b[0m\u001b[0;34m[\u001b[0m\u001b[0;34m'Diabetic'\u001b[0m\u001b[0;34m]\u001b[0m \u001b[0;34m==\u001b[0m \u001b[0;32mFalse\u001b[0m\u001b[0;34m]\u001b[0m\u001b[0;34m\u001b[0m\u001b[0;34m\u001b[0m\u001b[0m\n\u001b[1;32m      5\u001b[0m \u001b[0;34m\u001b[0m\u001b[0m\n",
      "\u001b[0;32m~/opt/anaconda3/envs/HRV/lib/python3.9/site-packages/pandas/core/frame.py\u001b[0m in \u001b[0;36m__getitem__\u001b[0;34m(self, key)\u001b[0m\n\u001b[1;32m   3456\u001b[0m             \u001b[0;32mif\u001b[0m \u001b[0mself\u001b[0m\u001b[0;34m.\u001b[0m\u001b[0mcolumns\u001b[0m\u001b[0;34m.\u001b[0m\u001b[0mnlevels\u001b[0m \u001b[0;34m>\u001b[0m \u001b[0;36m1\u001b[0m\u001b[0;34m:\u001b[0m\u001b[0;34m\u001b[0m\u001b[0;34m\u001b[0m\u001b[0m\n\u001b[1;32m   3457\u001b[0m                 \u001b[0;32mreturn\u001b[0m \u001b[0mself\u001b[0m\u001b[0;34m.\u001b[0m\u001b[0m_getitem_multilevel\u001b[0m\u001b[0;34m(\u001b[0m\u001b[0mkey\u001b[0m\u001b[0;34m)\u001b[0m\u001b[0;34m\u001b[0m\u001b[0;34m\u001b[0m\u001b[0m\n\u001b[0;32m-> 3458\u001b[0;31m             \u001b[0mindexer\u001b[0m \u001b[0;34m=\u001b[0m \u001b[0mself\u001b[0m\u001b[0;34m.\u001b[0m\u001b[0mcolumns\u001b[0m\u001b[0;34m.\u001b[0m\u001b[0mget_loc\u001b[0m\u001b[0;34m(\u001b[0m\u001b[0mkey\u001b[0m\u001b[0;34m)\u001b[0m\u001b[0;34m\u001b[0m\u001b[0;34m\u001b[0m\u001b[0m\n\u001b[0m\u001b[1;32m   3459\u001b[0m             \u001b[0;32mif\u001b[0m \u001b[0mis_integer\u001b[0m\u001b[0;34m(\u001b[0m\u001b[0mindexer\u001b[0m\u001b[0;34m)\u001b[0m\u001b[0;34m:\u001b[0m\u001b[0;34m\u001b[0m\u001b[0;34m\u001b[0m\u001b[0m\n\u001b[1;32m   3460\u001b[0m                 \u001b[0mindexer\u001b[0m \u001b[0;34m=\u001b[0m \u001b[0;34m[\u001b[0m\u001b[0mindexer\u001b[0m\u001b[0;34m]\u001b[0m\u001b[0;34m\u001b[0m\u001b[0;34m\u001b[0m\u001b[0m\n",
      "\u001b[0;32m~/opt/anaconda3/envs/HRV/lib/python3.9/site-packages/pandas/core/indexes/base.py\u001b[0m in \u001b[0;36mget_loc\u001b[0;34m(self, key, method, tolerance)\u001b[0m\n\u001b[1;32m   3361\u001b[0m                 \u001b[0;32mreturn\u001b[0m \u001b[0mself\u001b[0m\u001b[0;34m.\u001b[0m\u001b[0m_engine\u001b[0m\u001b[0;34m.\u001b[0m\u001b[0mget_loc\u001b[0m\u001b[0;34m(\u001b[0m\u001b[0mcasted_key\u001b[0m\u001b[0;34m)\u001b[0m\u001b[0;34m\u001b[0m\u001b[0;34m\u001b[0m\u001b[0m\n\u001b[1;32m   3362\u001b[0m             \u001b[0;32mexcept\u001b[0m \u001b[0mKeyError\u001b[0m \u001b[0;32mas\u001b[0m \u001b[0merr\u001b[0m\u001b[0;34m:\u001b[0m\u001b[0;34m\u001b[0m\u001b[0;34m\u001b[0m\u001b[0m\n\u001b[0;32m-> 3363\u001b[0;31m                 \u001b[0;32mraise\u001b[0m \u001b[0mKeyError\u001b[0m\u001b[0;34m(\u001b[0m\u001b[0mkey\u001b[0m\u001b[0;34m)\u001b[0m \u001b[0;32mfrom\u001b[0m \u001b[0merr\u001b[0m\u001b[0;34m\u001b[0m\u001b[0;34m\u001b[0m\u001b[0m\n\u001b[0m\u001b[1;32m   3364\u001b[0m \u001b[0;34m\u001b[0m\u001b[0m\n\u001b[1;32m   3365\u001b[0m         \u001b[0;32mif\u001b[0m \u001b[0mis_scalar\u001b[0m\u001b[0;34m(\u001b[0m\u001b[0mkey\u001b[0m\u001b[0;34m)\u001b[0m \u001b[0;32mand\u001b[0m \u001b[0misna\u001b[0m\u001b[0;34m(\u001b[0m\u001b[0mkey\u001b[0m\u001b[0;34m)\u001b[0m \u001b[0;32mand\u001b[0m \u001b[0;32mnot\u001b[0m \u001b[0mself\u001b[0m\u001b[0;34m.\u001b[0m\u001b[0mhasnans\u001b[0m\u001b[0;34m:\u001b[0m\u001b[0;34m\u001b[0m\u001b[0;34m\u001b[0m\u001b[0m\n",
      "\u001b[0;31mKeyError\u001b[0m: 'Diabetic'"
     ]
    }
   ],
   "source": [
    "# Separating Dataframes\n",
    "DM_df = df.loc[df['Diabetic']]\n",
    "\n",
    "Control_df = df.loc[df['Diabetic'] == False]\n",
    "\n",
    "CAN_df = df.loc[df['CAD']]\n",
    "CAN_df = CAN_df.loc[CAN_df['Diabetic']]\n",
    "\n",
    "nCAN_df = df.loc[df['CAD'] == False]\n",
    "nCAN_df = nCAN_df.loc[nCAN_df['Diabetic']]"
   ]
  },
  {
   "cell_type": "markdown",
   "metadata": {},
   "source": [
    "For the clean snippets\n",
    "- 22 Diabetic patients with 30 snippets total\n",
    "- 5 Control patients with 8 snippets total\n",
    "- 5 CAN patients with 8 snippets total (includes non-diabetic patients)\n",
    "- 22 non-CAN patients with 30 snippets total (includes non-diabetic patients)\n",
    "\n",
    "...\n",
    "\n",
    "- 4 CAN patients with 7 snippets total (all diabetic patients)\n",
    "- 18 non-CAN patients with 23 snippets total (all diabetic patients)"
   ]
  },
  {
   "cell_type": "code",
   "execution_count": 17,
   "metadata": {},
   "outputs": [
    {
     "ename": "NameError",
     "evalue": "name 'CAN_df' is not defined",
     "output_type": "error",
     "traceback": [
      "\u001b[0;31m---------------------------------------------------------------------------\u001b[0m",
      "\u001b[0;31mNameError\u001b[0m                                 Traceback (most recent call last)",
      "\u001b[0;32m/var/folders/79/9_sl0_px0m153y_7w874f1qw0000gn/T/ipykernel_4513/3312917621.py\u001b[0m in \u001b[0;36m<module>\u001b[0;34m\u001b[0m\n\u001b[0;32m----> 1\u001b[0;31m \u001b[0mCAN_df\u001b[0m\u001b[0;34m\u001b[0m\u001b[0;34m\u001b[0m\u001b[0m\n\u001b[0m",
      "\u001b[0;31mNameError\u001b[0m: name 'CAN_df' is not defined"
     ]
    }
   ],
   "source": [
    "CAN_df"
   ]
  },
  {
   "cell_type": "code",
   "execution_count": 18,
   "metadata": {},
   "outputs": [
    {
     "ename": "NameError",
     "evalue": "name 'CAN_df' is not defined",
     "output_type": "error",
     "traceback": [
      "\u001b[0;31m---------------------------------------------------------------------------\u001b[0m",
      "\u001b[0;31mNameError\u001b[0m                                 Traceback (most recent call last)",
      "\u001b[0;32m/var/folders/79/9_sl0_px0m153y_7w874f1qw0000gn/T/ipykernel_4513/4058731857.py\u001b[0m in \u001b[0;36m<module>\u001b[0;34m\u001b[0m\n\u001b[1;32m      3\u001b[0m \u001b[0mfig\u001b[0m\u001b[0;34m.\u001b[0m\u001b[0msuptitle\u001b[0m\u001b[0;34m(\u001b[0m\u001b[0;34m'Parameter values for CAD and Non-CAD Patients'\u001b[0m\u001b[0;34m,\u001b[0m \u001b[0mfontsize\u001b[0m\u001b[0;34m=\u001b[0m\u001b[0;36m16\u001b[0m\u001b[0;34m)\u001b[0m\u001b[0;34m\u001b[0m\u001b[0;34m\u001b[0m\u001b[0m\n\u001b[1;32m      4\u001b[0m \u001b[0;34m\u001b[0m\u001b[0m\n\u001b[0;32m----> 5\u001b[0;31m \u001b[0mlst\u001b[0m \u001b[0;34m=\u001b[0m \u001b[0;34m[\u001b[0m\u001b[0;36m1\u001b[0m\u001b[0;34m]\u001b[0m \u001b[0;34m*\u001b[0m \u001b[0mlen\u001b[0m\u001b[0;34m(\u001b[0m\u001b[0mCAN_df\u001b[0m\u001b[0;34m[\u001b[0m\u001b[0;34m'RMSSD'\u001b[0m\u001b[0;34m]\u001b[0m\u001b[0;34m)\u001b[0m\u001b[0;34m\u001b[0m\u001b[0;34m\u001b[0m\u001b[0m\n\u001b[0m\u001b[1;32m      6\u001b[0m \u001b[0mlst2\u001b[0m \u001b[0;34m=\u001b[0m \u001b[0;34m[\u001b[0m\u001b[0;36m2\u001b[0m\u001b[0;34m]\u001b[0m \u001b[0;34m*\u001b[0m \u001b[0mlen\u001b[0m\u001b[0;34m(\u001b[0m\u001b[0mnCAN_df\u001b[0m\u001b[0;34m[\u001b[0m\u001b[0;34m'RMSSD'\u001b[0m\u001b[0;34m]\u001b[0m\u001b[0;34m)\u001b[0m\u001b[0;34m\u001b[0m\u001b[0;34m\u001b[0m\u001b[0m\n\u001b[1;32m      7\u001b[0m \u001b[0;34m\u001b[0m\u001b[0m\n",
      "\u001b[0;31mNameError\u001b[0m: name 'CAN_df' is not defined"
     ]
    },
    {
     "data": {
      "image/png": "[encoded data removed]",
      "text/plain": [
       "<Figure size 1440x720 with 6 Axes>"
      ]
     },
     "metadata": {
      "needs_background": "light"
     },
     "output_type": "display_data"
    }
   ],
   "source": [
    "fig, axs = plt.subplots(2,3, figsize=(20,10))\n",
    "\n",
    "fig.suptitle('Parameter values for CAD and Non-CAD Patients', fontsize=16)\n",
    "\n",
    "lst = [1] * len(CAN_df['RMSSD'])\n",
    "lst2 = [2] * len(nCAN_df['RMSSD'])\n",
    "\n",
    "groups = ('CAN', 'Non-CAN')\n",
    "\n",
    "axs[0, 0].scatter(CAN_df['SDNN'], lst)\n",
    "axs[0, 0].scatter(nCAN_df['SDNN'], lst2)\n",
    "axs[0, 0].boxplot([CAN_df['SDNN'], nCAN_df['SDNN']], vert = False)\n",
    "axs[0,0].set_ylim([0.25, 2.75])\n",
    "axs[0,0].set_yticks((1,2))\n",
    "axs[0,0].set_yticklabels(groups)\n",
    "axs[0,0].set_title('SDNN Values (ms)')\n",
    "\n",
    "axs[0, 1].scatter(CAN_df['RMSSD'], lst)\n",
    "axs[0, 1].scatter(nCAN_df['RMSSD'], lst2)\n",
    "axs[0, 1].boxplot([CAN_df['RMSSD'], nCAN_df['RMSSD']], vert = False)\n",
    "axs[0,1].set_ylim([0.25, 2.75])\n",
    "axs[0,1].set_yticks((1,2))\n",
    "axs[0,1].set_yticklabels(groups)\n",
    "axs[0,1].set_title('RMSSD Values (ms)')\n",
    "\n",
    "axs[0, 2].scatter(CAN_df['PNN50'], lst)\n",
    "axs[0, 2].scatter(nCAN_df['PNN50'], lst2)\n",
    "axs[0, 2].boxplot([CAN_df['PNN50'], nCAN_df['PNN50']], vert = False)\n",
    "axs[0,2].set_ylim([0.25, 2.75])\n",
    "axs[0,2].set_yticks((1,2))\n",
    "axs[0,2].set_yticklabels(groups)\n",
    "axs[0,2].set_title('PNN50 Values')\n",
    "\n",
    "axs[1, 0].scatter(CAN_df['LF'], lst)\n",
    "axs[1, 0].scatter(nCAN_df['LF'], lst2)\n",
    "axs[1, 0].boxplot([CAN_df['LF'], nCAN_df['LF']], vert = False)\n",
    "axs[1,0].set_ylim([0.25, 2.75])\n",
    "axs[1,0].set_yticks((1,2))\n",
    "axs[1,0].set_yticklabels(groups)\n",
    "axs[1,0].set_title('LF Values (ms2)')\n",
    "\n",
    "axs[1, 1].scatter(CAN_df['HF'], lst)\n",
    "axs[1, 1].scatter(nCAN_df['HF'], lst2)\n",
    "axs[1, 1].boxplot([CAN_df['HF'], nCAN_df['HF']], vert = False)\n",
    "axs[1,1].set_ylim([0.25, 2.75])\n",
    "axs[1,1].set_yticks((1,2))\n",
    "axs[1,1].set_yticklabels(groups)\n",
    "axs[1,1].set_title('HF Values (ms2)')\n",
    "\n",
    "axs[1,2].scatter(CAN_df['LFHF'], lst)\n",
    "axs[1,2].scatter(nCAN_df['LFHF'], lst2)\n",
    "axs[1,2].boxplot([CAN_df['LFHF'], nCAN_df['LFHF']], vert = False)\n",
    "axs[1,2].set_ylim([0.25, 2.75])\n",
    "axs[1,2].set_yticks((1,2))\n",
    "axs[1,2].set_yticklabels(groups)\n",
    "axs[1,2].set_title('LFHF Values')\n",
    "plt.show()"
   ]
  },
  {
   "cell_type": "code",
   "execution_count": 19,
   "metadata": {},
   "outputs": [
    {
     "ename": "NameError",
     "evalue": "name 'DM_df' is not defined",
     "output_type": "error",
     "traceback": [
      "\u001b[0;31m---------------------------------------------------------------------------\u001b[0m",
      "\u001b[0;31mNameError\u001b[0m                                 Traceback (most recent call last)",
      "\u001b[0;32m/var/folders/79/9_sl0_px0m153y_7w874f1qw0000gn/T/ipykernel_4513/1364954617.py\u001b[0m in \u001b[0;36m<module>\u001b[0;34m\u001b[0m\n\u001b[1;32m      3\u001b[0m \u001b[0mfig\u001b[0m\u001b[0;34m.\u001b[0m\u001b[0msuptitle\u001b[0m\u001b[0;34m(\u001b[0m\u001b[0;34m'Parameter values for Diabetic and Non-diabetic Patients'\u001b[0m\u001b[0;34m,\u001b[0m \u001b[0mfontsize\u001b[0m\u001b[0;34m=\u001b[0m\u001b[0;36m16\u001b[0m\u001b[0;34m)\u001b[0m\u001b[0;34m\u001b[0m\u001b[0;34m\u001b[0m\u001b[0m\n\u001b[1;32m      4\u001b[0m \u001b[0;34m\u001b[0m\u001b[0m\n\u001b[0;32m----> 5\u001b[0;31m \u001b[0mlst\u001b[0m \u001b[0;34m=\u001b[0m \u001b[0;34m[\u001b[0m\u001b[0;36m1\u001b[0m\u001b[0;34m]\u001b[0m \u001b[0;34m*\u001b[0m \u001b[0mlen\u001b[0m\u001b[0;34m(\u001b[0m\u001b[0mDM_df\u001b[0m\u001b[0;34m[\u001b[0m\u001b[0;34m'RMSSD'\u001b[0m\u001b[0;34m]\u001b[0m\u001b[0;34m)\u001b[0m\u001b[0;34m\u001b[0m\u001b[0;34m\u001b[0m\u001b[0m\n\u001b[0m\u001b[1;32m      6\u001b[0m \u001b[0mlst2\u001b[0m \u001b[0;34m=\u001b[0m \u001b[0;34m[\u001b[0m\u001b[0;36m2\u001b[0m\u001b[0;34m]\u001b[0m \u001b[0;34m*\u001b[0m \u001b[0mlen\u001b[0m\u001b[0;34m(\u001b[0m\u001b[0mControl_df\u001b[0m\u001b[0;34m[\u001b[0m\u001b[0;34m'RMSSD'\u001b[0m\u001b[0;34m]\u001b[0m\u001b[0;34m)\u001b[0m\u001b[0;34m\u001b[0m\u001b[0;34m\u001b[0m\u001b[0m\n\u001b[1;32m      7\u001b[0m \u001b[0;34m\u001b[0m\u001b[0m\n",
      "\u001b[0;31mNameError\u001b[0m: name 'DM_df' is not defined"
     ]
    },
    {
     "data": {
      "image/png": "[encoded data removed]",
      "text/plain": [
       "<Figure size 1440x720 with 6 Axes>"
      ]
     },
     "metadata": {
      "needs_background": "light"
     },
     "output_type": "display_data"
    }
   ],
   "source": [
    "fig, axs = plt.subplots(2,3, figsize=(20,10))\n",
    "\n",
    "fig.suptitle('Parameter values for Diabetic and Non-diabetic Patients', fontsize=16)\n",
    "\n",
    "lst = [1] * len(DM_df['RMSSD'])\n",
    "lst2 = [2] * len(Control_df['RMSSD'])\n",
    "\n",
    "groups = ('Diabetic', 'Non-Diabetic')\n",
    "\n",
    "axs[0, 0].scatter(DM_df['SDNN'], lst)\n",
    "axs[0, 0].scatter(Control_df['SDNN'], lst2)\n",
    "axs[0, 0].boxplot([DM_df['SDNN'], Control_df['SDNN']], vert = False)\n",
    "axs[0,0].set_ylim([0.25, 2.75])\n",
    "axs[0,0].set_yticks((1,2))\n",
    "axs[0,0].set_yticklabels(groups)\n",
    "axs[0,0].set_title('SDNN Values (ms)')\n",
    "\n",
    "axs[0, 1].scatter(DM_df['RMSSD'], lst)\n",
    "axs[0, 1].scatter(Control_df['RMSSD'], lst2)\n",
    "axs[0, 1].boxplot([DM_df['RMSSD'], Control_df['RMSSD']], vert = False)\n",
    "axs[0,1].set_ylim([0.25, 2.75])\n",
    "axs[0,1].set_yticks((1,2))\n",
    "axs[0,1].set_yticklabels(groups)\n",
    "axs[0,1].set_title('RMSSD Values (ms)')\n",
    "\n",
    "axs[0, 2].scatter(DM_df['PNN50'], lst)\n",
    "axs[0, 2].scatter(Control_df['PNN50'], lst2)\n",
    "axs[0, 2].boxplot([DM_df['PNN50'], Control_df['PNN50']], vert = False)\n",
    "axs[0,2].set_ylim([0.25, 2.75])\n",
    "axs[0,2].set_yticks((1,2))\n",
    "axs[0,2].set_yticklabels(groups)\n",
    "axs[0,2].set_title('PNN50 Values')\n",
    "\n",
    "axs[1, 0].scatter(DM_df['LF'], lst)\n",
    "axs[1, 0].scatter(Control_df['LF'], lst2)\n",
    "axs[1, 0].boxplot([DM_df['LF'], Control_df['LF']], vert = False)\n",
    "axs[1,0].set_ylim([0.25, 2.75])\n",
    "axs[1,0].set_yticks((1,2))\n",
    "axs[1,0].set_yticklabels(groups)\n",
    "axs[1,0].set_title('LF Values (ms2)')\n",
    "\n",
    "axs[1, 1].scatter(DM_df['HF'], lst)\n",
    "axs[1, 1].scatter(Control_df['HF'], lst2)\n",
    "axs[1, 1].boxplot([DM_df['HF'], Control_df['HF']], vert = False)\n",
    "axs[1,1].set_ylim([0.25, 2.75])\n",
    "axs[1,1].set_yticks((1,2))\n",
    "axs[1,1].set_yticklabels(groups)\n",
    "axs[1,1].set_title('HF Values (ms2)')\n",
    "\n",
    "axs[1,2].scatter(DM_df['LFHF'], lst)\n",
    "axs[1,2].scatter(Control_df['LFHF'], lst2)\n",
    "axs[1,2].boxplot([DM_df['LFHF'], Control_df['LFHF']], vert = False)\n",
    "axs[1,2].set_ylim([0.25, 2.75])\n",
    "axs[1,2].set_yticks((1,2))\n",
    "axs[1,2].set_yticklabels(groups)\n",
    "axs[1,2].set_title('LFHF Values')\n",
    "plt.show()"
   ]
  },
  {
   "cell_type": "markdown",
   "metadata": {},
   "source": [
    "## Stat test application\n",
    "### Mann-Whitney Test\n",
    "https://docs.scipy.org/doc/scipy/reference/generated/scipy.stats.mannwhitneyu.html\n",
    "\n",
    "Nonparametric testing if there is a statistically significant difference in the distribution of the HRV Parameters in CAN/Diabetic patients vs Non-CAN/Control patients.\n",
    "\n",
    "Null Hypothesis is that the distributions are the same."
   ]
  },
  {
   "cell_type": "code",
   "execution_count": null,
   "metadata": {},
   "outputs": [],
   "source": [
    "def MannWhit(df1, df2, parameter):\n",
    "    # First value retuned is the test statistic for the first array inputted\n",
    "    _, p = mannwhitneyu(df1[parameter], df2[parameter])\n",
    "    print(\"Probability that the difference in distributions for the \", parameter, \" parameter is due to chance: \", p)\n",
    "\n",
    "\n",
    "# # Or One-sided test where you check if the first is significantly less than the second (but gives the same/inverse result)\n",
    "# _, p = mannwhitneyu(Control_df['RMSSD'], DM_df['RMSSD'], alternative=\"less\")"
   ]
  },
  {
   "cell_type": "markdown",
   "metadata": {},
   "source": [
    "### Chi squared Test\n",
    "https://docs.scipy.org/doc/scipy/reference/generated/scipy.stats.chisquare.html\n",
    "\n",
    "Some points:\n",
    "- Tests for independence!\n",
    "- Total number of samples recommended to be greater than 13 otherwise may overreject"
   ]
  },
  {
   "cell_type": "markdown",
   "metadata": {},
   "source": [
    "### Applying the tests"
   ]
  },
  {
   "cell_type": "code",
   "execution_count": null,
   "metadata": {},
   "outputs": [],
   "source": [
    "parameters = ['RMSSD', 'PNN50', 'SDNN', 'HF', 'LF', 'LFHF']\n",
    "dfs = [(DM_df, Control_df), (CAN_df, nCAN_df)]\n",
    "\n",
    "print(\"Looking at DM vs control patients\")\n",
    "for pair in dfs:\n",
    "    for para in parameters:\n",
    "        MannWhit(pair[0], pair[1], para)\n",
    "\n",
    "    print(\"\\n\\n Looking at CAN vs non-CAN patients\")\n",
    "    "
   ]
  },
  {
   "cell_type": "markdown",
   "metadata": {},
   "source": [
    "## Visualisation\n",
    "### Initial plotting of parameters"
   ]
  },
  {
   "cell_type": "code",
   "execution_count": null,
   "metadata": {},
   "outputs": [],
   "source": [
    "# Plotting parameters against each other in 2D\n",
    "print('Diabetic is Blue, control is Orange')\n",
    "for pair in dfs:\n",
    "    for para in parameters:\n",
    "        for par2 in list(filter(lambda x: x!= para, parameters)):\n",
    "            fig = plt.figure()\n",
    "            fig.suptitle((para +' vs '+ par2))\n",
    "            plt.scatter(pair[0][para], pair[0][par2])\n",
    "            plt.scatter(pair[1][para], pair[1][par2])\n",
    "            plt.xlabel(para)\n",
    "            plt.ylabel(par2)\n",
    "            plt.show()\n",
    "    print('CAN is Blue, non-CAN is Orange')"
   ]
  },
  {
   "cell_type": "code",
   "execution_count": null,
   "metadata": {},
   "outputs": [],
   "source": [
    "# Plotting parameters against other patient variables"
   ]
  }
 ],
 "metadata": {
  "kernelspec": {
   "display_name": "Python 3 (ipykernel)",
   "language": "python",
   "name": "python3"
  },
  "language_info": {
   "codemirror_mode": {
    "name": "ipython",
    "version": 3
   },
   "file_extension": ".py",
   "mimetype": "text/x-python",
   "name": "python",
   "nbconvert_exporter": "python",
   "pygments_lexer": "ipython3",
   "version": "3.9.7"
  }
 },
 "nbformat": 4,
 "nbformat_minor": 4
}
