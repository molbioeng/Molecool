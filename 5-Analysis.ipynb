{
 "cells": [
  {
   "cell_type": "markdown",
   "metadata": {},
   "source": [
    "# HRV Parameter Extraction\n",
    "This notebook is used for analysing significance of patient HRV parameters extracted in part 4. \n",
    "\n",
    "To do:\n",
    "- Apply chi and Mann-Whitney tests to parameters\n",
    "- (optional) restructure the db to be multiindexed??\n",
    "- Test classification algorithms to set a range for CAN vs control patients...\n",
    "\n",
    "## Initial setup"
   ]
  },
  {
   "cell_type": "code",
   "execution_count": 21,
   "metadata": {},
   "outputs": [],
   "source": [
    "import os\n",
    "import pandas as pd\n",
    "import numpy as np\n",
    "import matplotlib.pyplot as plt\n",
    "import json\n",
    "import pyarrow.feather as feather\n",
    "from tqdm import tqdm\n",
    "from scipy.stats import mannwhitneyu"
   ]
  },
  {
   "cell_type": "code",
   "execution_count": 9,
   "metadata": {},
   "outputs": [],
   "source": [
    "root = 'G:\\My Drive\\Molecool\\Databases\\Database1'\n",
    "#root = '/Volumes/GoogleDrive/.shortcut-targets-by-id/1sZgDE1M3o-bDINfAQYEXl_vqsKs03WxD/Molecool/Databases/Database1'"
   ]
  },
  {
   "cell_type": "markdown",
   "metadata": {},
   "source": [
    "## Functions"
   ]
  },
  {
   "cell_type": "code",
   "execution_count": 3,
   "metadata": {},
   "outputs": [],
   "source": [
    "def check_clean_valid(path):\n",
    "    \"\"\"Only indicates that the folder is valid if it contains a file named 'CleanParameters.json'\n",
    "    Input: Filepath\n",
    "    Output: True if the folder indexed by the filepath contains a file called CleanParameters.json, False otherwise\"\"\"\n",
    "    return os.path.exists(path + '/CleanParameters.json')"
   ]
  },
  {
   "cell_type": "code",
   "execution_count": 4,
   "metadata": {},
   "outputs": [],
   "source": [
    "def collect_row(parapath, patient, count):\n",
    "    \"\"\"\"\"\"\n",
    "    with open(parapath + '/CleanParameters.json') as json_file:\n",
    "        row = json.load(json_file)\n",
    "        json_file.close()\n",
    "        \n",
    "    row['Patient'] = patient\n",
    "    row['Count'] = count[-3:]\n",
    "    print(row)\n",
    "    return row"
   ]
  },
  {
   "cell_type": "code",
   "execution_count": 5,
   "metadata": {},
   "outputs": [],
   "source": [
    "def lookup_patient(paradf, root):\n",
    "    \"\"\"Adds patient classifications (diabetic vs control, CAD vs no CAD) by...\n",
    "    ...looking up values in the small metadata file (sdf) associated with the...\n",
    "    ..database and editing the parameter dataframe accordingly\n",
    "    Input: DataFrame of Parameters (paradf), root of the database (root)\n",
    "    Output: Edited paradf\"\"\"\n",
    "    # Load the Small Metadata file\n",
    "    #with open(root + '\\\\SMeta.json') as json_file:\n",
    "    with open(root + '/SMeta.json') as json_file:\n",
    "        sdf = pd.read_json(json_file, orient = 'index')\n",
    "        json_file.close()\n",
    "    \n",
    "    # Add DM/C classification\n",
    "    paradf['CAD'] = (sdf.loc[paradf['Patient']]['CAN Symptoms']).reset_index(drop=True)\n",
    "    \n",
    "    # Add CAN/Not classification\n",
    "    paradf['Diabetic'] = (sdf.loc[paradf['Patient']]['Diabetic']).reset_index(drop=True)\n",
    "    \n",
    "    return paradf"
   ]
  },
  {
   "cell_type": "code",
   "execution_count": 6,
   "metadata": {},
   "outputs": [],
   "source": [
    "#def to_df(rows):\n",
    " #   \"\"\"Converts the collected dictionary rows into a ... and reformats it so that it's indexed \"\"\""
   ]
  },
  {
   "cell_type": "markdown",
   "metadata": {},
   "source": [
    "## Initial Analysis of clean HRV Snippet Parameters\n",
    "### Load All parameters and classification into DF"
   ]
  },
  {
   "cell_type": "code",
   "execution_count": 12,
   "metadata": {},
   "outputs": [
    {
     "name": "stderr",
     "output_type": "stream",
     "text": [
      "\r",
      "  0%|                                                                                           | 0/56 [00:00<?, ?it/s]"
     ]
    },
    {
     "name": "stdout",
     "output_type": "stream",
     "text": [
      "In snippet folder Snippet000\n",
      "In snippet folder Snippet001\n"
     ]
    },
    {
     "name": "stderr",
     "output_type": "stream",
     "text": [
      "\r",
      "  4%|██▉                                                                                | 2/56 [00:00<00:14,  3.73it/s]"
     ]
    },
    {
     "name": "stdout",
     "output_type": "stream",
     "text": [
      "{'SDNN': 9.388711176710585, 'RMSSD': 3.7275644651843733, 'PNN50': 0.0, 'LF': 6.972244720053225, 'HF': 5.05258479487378, 'LFHF': 1.3799362114866596, 'Patient': 'S0250', 'Count': '001'}\n",
      "\n",
      "\n",
      "\n",
      "In snippet folder Snippet002\n",
      "In snippet folder Snippet000\n",
      "In snippet folder Snippet000\n",
      "{'SDNN': 19.93502977681763, 'RMSSD': 11.883778830332387, 'PNN50': 0.0, 'LF': 13.341491259583142, 'HF': 19.309388679624874, 'LFHF': 0.6909328659203482, 'Patient': 'S0273', 'Count': '000'}\n",
      "\n",
      "\n",
      "\n",
      "In snippet folder Snippet001\n",
      "{'SDNN': 23.382226136845293, 'RMSSD': 13.006798668165926, 'PNN50': 0.0, 'LF': 19.026568875603836, 'HF': 24.836171091050836, 'LFHF': 0.7660830168165349, 'Patient': 'S0273', 'Count': '001'}\n",
      "\n",
      "\n",
      "\n",
      "In snippet folder Snippet002\n"
     ]
    },
    {
     "name": "stderr",
     "output_type": "stream",
     "text": [
      "\r",
      " 11%|████████▉                                                                          | 6/56 [00:01<00:14,  3.48it/s]"
     ]
    },
    {
     "name": "stdout",
     "output_type": "stream",
     "text": [
      "{'SDNN': 63.1055109941366, 'RMSSD': 82.24981476252546, 'PNN50': 0.3546099290780142, 'LF': 13.725900026784812, 'HF': 24.00461959671393, 'LFHF': 0.5718024387549051, 'Patient': 'S0273', 'Count': '002'}\n",
      "\n",
      "\n",
      "\n",
      "In snippet folder Snippet003\n",
      "In snippet folder Snippet004\n",
      "In snippet folder Snippet000\n",
      "In snippet folder Snippet001\n",
      "In snippet folder Snippet002\n"
     ]
    },
    {
     "name": "stderr",
     "output_type": "stream",
     "text": [
      "\r",
      " 12%|██████████▍                                                                        | 7/56 [00:02<00:15,  3.11it/s]"
     ]
    },
    {
     "name": "stdout",
     "output_type": "stream",
     "text": [
      "{'SDNN': 30.02283210242785, 'RMSSD': 17.00215194414246, 'PNN50': 1.6129032258064515, 'LF': 20.888081390275854, 'HF': 14.231384287419843, 'LFHF': 1.4677476883777463, 'Patient': 'S0282', 'Count': '002'}\n",
      "\n",
      "\n",
      "\n",
      "In snippet folder Snippet000\n",
      "In snippet folder Snippet001\n",
      "In snippet folder Snippet002\n"
     ]
    },
    {
     "name": "stderr",
     "output_type": "stream",
     "text": [
      "\r",
      " 14%|███████████▊                                                                       | 8/56 [00:02<00:16,  3.00it/s]"
     ]
    },
    {
     "name": "stdout",
     "output_type": "stream",
     "text": [
      "{'SDNN': 8.048376197228723, 'RMSSD': 1.8865766874508803, 'PNN50': 0.0, 'LF': 1.9487797689157493, 'HF': 3.007180518932409, 'LFHF': 0.6480421632977302, 'Patient': 'S0283', 'Count': '002'}\n",
      "\n",
      "\n",
      "\n",
      "In snippet folder Snippet003\n",
      "In snippet folder Snippet000\n",
      "In snippet folder Snippet001\n",
      "In snippet folder Snippet002\n",
      "In snippet folder Snippet000\n",
      "In snippet folder Snippet001\n"
     ]
    },
    {
     "name": "stderr",
     "output_type": "stream",
     "text": [
      "\r",
      " 18%|██████████████▋                                                                   | 10/56 [00:03<00:13,  3.30it/s]"
     ]
    },
    {
     "name": "stdout",
     "output_type": "stream",
     "text": [
      "{'SDNN': 44.35105855955421, 'RMSSD': 62.7406597860621, 'PNN50': 0.29940119760479045, 'LF': 6.989107548606403, 'HF': 14.51482496850104, 'LFHF': 0.481515110500721, 'Patient': 'S0288', 'Count': '001'}\n",
      "\n",
      "\n",
      "\n",
      "In snippet folder Snippet002\n",
      "In snippet folder Snippet000\n",
      "In snippet folder Snippet001\n",
      "In snippet folder Snippet000\n",
      "In snippet folder Snippet001\n",
      "In snippet folder Snippet002\n",
      "In snippet folder Snippet000\n",
      "In snippet folder Snippet001\n"
     ]
    },
    {
     "name": "stderr",
     "output_type": "stream",
     "text": [
      "\r",
      " 23%|███████████████████                                                               | 13/56 [00:03<00:10,  3.95it/s]"
     ]
    },
    {
     "name": "stdout",
     "output_type": "stream",
     "text": [
      "{'SDNN': 8.737276463521113, 'RMSSD': 3.4300675107775387, 'PNN50': 0.0, 'LF': 5.6112923429799935, 'HF': 4.736355310060457, 'LFHF': 1.1847279132672097, 'Patient': 'S0300', 'Count': '001'}\n",
      "\n",
      "\n",
      "\n",
      "In snippet folder Snippet002\n",
      "In snippet folder Snippet000\n",
      "In snippet folder Snippet001\n",
      "In snippet folder Snippet002\n",
      "In snippet folder Snippet000\n",
      "In snippet folder Snippet000\n",
      "In snippet folder Snippet000\n"
     ]
    },
    {
     "name": "stderr",
     "output_type": "stream",
     "text": [
      "\r",
      " 30%|████████████████████████▉                                                         | 17/56 [00:03<00:08,  4.80it/s]"
     ]
    },
    {
     "name": "stdout",
     "output_type": "stream",
     "text": [
      "{'SDNN': 31.674669436576426, 'RMSSD': 43.212535945485534, 'PNN50': 0.30120481927710846, 'LF': 9.999719940496139, 'HF': 8.540745581165554, 'LFHF': 1.1708251750933762, 'Patient': 'S0310', 'Count': '000'}\n",
      "\n",
      "\n",
      "\n",
      "In snippet folder Snippet001\n",
      "In snippet folder Snippet002\n",
      "In snippet folder Snippet003\n",
      "In snippet folder Snippet004\n",
      "In snippet folder Snippet000\n",
      "In snippet folder Snippet000\n",
      "In snippet folder Snippet001\n",
      "In snippet folder Snippet000\n",
      "In snippet folder Snippet000\n",
      "In snippet folder Snippet001\n",
      "In snippet folder Snippet002\n",
      "In snippet folder Snippet003\n",
      "In snippet folder Snippet000\n",
      "{'SDNN': 11.532271169457752, 'RMSSD': 2.453352684376911, 'PNN50': 0.0, 'LF': 12.794286503869781, 'HF': 4.9410238621609635, 'LFHF': 2.5893998614032565, 'Patient': 'S0317', 'Count': '000'}\n",
      "\n",
      "\n",
      "\n",
      "In snippet folder Snippet001\n"
     ]
    },
    {
     "name": "stderr",
     "output_type": "stream",
     "text": [
      "\r",
      " 39%|████████████████████████████████▏                                                 | 22/56 [00:04<00:06,  4.98it/s]"
     ]
    },
    {
     "name": "stdout",
     "output_type": "stream",
     "text": [
      "{'SDNN': 11.628979019021253, 'RMSSD': 2.65742857016037, 'PNN50': 0.0, 'LF': 11.046268972385839, 'HF': 4.628531043127421, 'LFHF': 2.3865604161362737, 'Patient': 'S0317', 'Count': '001'}\n",
      "\n",
      "\n",
      "\n",
      "In snippet folder Snippet002\n",
      "In snippet folder Snippet003\n",
      "In snippet folder Snippet000\n",
      "In snippet folder Snippet001\n",
      "In snippet folder Snippet002\n"
     ]
    },
    {
     "name": "stderr",
     "output_type": "stream",
     "text": [
      "\r",
      " 41%|█████████████████████████████████▋                                                | 23/56 [00:05<00:08,  3.77it/s]"
     ]
    },
    {
     "name": "stdout",
     "output_type": "stream",
     "text": [
      "{'SDNN': 17.353493026857482, 'RMSSD': 12.088972596005267, 'PNN50': 0.0, 'LF': 21.447789047782887, 'HF': 22.024232541626592, 'LFHF': 0.9738268521841019, 'Patient': 'S0318', 'Count': '002'}\n",
      "\n",
      "\n",
      "\n",
      "In snippet folder Snippet000\n"
     ]
    },
    {
     "name": "stderr",
     "output_type": "stream",
     "text": [
      " 54%|███████████████████████████████████████████▉                                      | 30/56 [00:05<00:05,  4.61it/s]"
     ]
    },
    {
     "name": "stdout",
     "output_type": "stream",
     "text": [
      "{'SDNN': 21.730151167534906, 'RMSSD': 8.931980837985538, 'PNN50': 0.0, 'LF': 20.27808756675972, 'HF': 14.761391045301409, 'LFHF': 1.3737247055191517, 'Patient': 'S0326', 'Count': '000'}\n",
      "\n",
      "\n",
      "\n",
      "In snippet folder Snippet001\n",
      "In snippet folder Snippet002\n",
      "In snippet folder Snippet000\n",
      "In snippet folder Snippet001\n",
      "In snippet folder Snippet000\n",
      "In snippet folder Snippet000\n",
      "In snippet folder Snippet001\n",
      "In snippet folder Snippet002\n",
      "In snippet folder Snippet000\n",
      "In snippet folder Snippet001\n",
      "In snippet folder Snippet002\n",
      "{'SDNN': 39.00482090802957, 'RMSSD': 55.15865854007237, 'PNN50': 0.2976190476190476, 'LF': 8.453702497903148, 'HF': 33.68820677944441, 'LFHF': 0.25093952175161066, 'Patient': 'S0366', 'Count': '002'}\n",
      "\n",
      "\n",
      "\n",
      "In snippet folder Snippet003\n",
      "In snippet folder Snippet000\n",
      "In snippet folder Snippet001\n",
      "{'SDNN': 95.18739956131294, 'RMSSD': 23.223453755800968, 'PNN50': 1.3550135501355014, 'LF': 64.8545595204144, 'HF': 46.647248018711885, 'LFHF': 1.3903190922302406, 'Patient': 'S0368', 'Count': '001'}\n",
      "\n",
      "\n",
      "\n",
      "In snippet folder Snippet002\n",
      "In snippet folder Snippet000\n"
     ]
    },
    {
     "name": "stderr",
     "output_type": "stream",
     "text": [
      "\r",
      " 59%|████████████████████████████████████████████████▎                                 | 33/56 [00:06<00:06,  3.61it/s]"
     ]
    },
    {
     "name": "stdout",
     "output_type": "stream",
     "text": [
      "{'SDNN': 34.44213214880959, 'RMSSD': 12.232309388306282, 'PNN50': 0.6369426751592357, 'LF': 31.81360220854277, 'HF': 20.59657984193521, 'LFHF': 1.5446060682254337, 'Patient': 'S0372', 'Count': '000'}\n",
      "\n",
      "\n",
      "\n",
      "In snippet folder Snippet001\n",
      "In snippet folder Snippet002\n",
      "In snippet folder Snippet000\n",
      "In snippet folder Snippet001\n",
      "In snippet folder Snippet002\n"
     ]
    },
    {
     "name": "stderr",
     "output_type": "stream",
     "text": [
      "\r",
      " 62%|███████████████████████████████████████████████████▎                              | 35/56 [00:07<00:05,  3.68it/s]"
     ]
    },
    {
     "name": "stdout",
     "output_type": "stream",
     "text": [
      "{'SDNN': 43.8737033199043, 'RMSSD': 57.919661084039056, 'PNN50': 0.7920792079207921, 'LF': 13.570441344916333, 'HF': 13.186894495732492, 'LFHF': 1.029085456724323, 'Patient': 'S0381', 'Count': '002'}\n",
      "\n",
      "\n",
      "\n",
      "In snippet folder Snippet000\n",
      "In snippet folder Snippet000\n",
      "In snippet folder Snippet001\n",
      "In snippet folder Snippet002\n"
     ]
    },
    {
     "name": "stderr",
     "output_type": "stream",
     "text": [
      "\r",
      " 66%|██████████████████████████████████████████████████████▏                           | 37/56 [00:07<00:04,  3.95it/s]"
     ]
    },
    {
     "name": "stdout",
     "output_type": "stream",
     "text": [
      "{'SDNN': 43.18540285327933, 'RMSSD': 54.32710881646028, 'PNN50': 0.22075055187637968, 'LF': 31.555378978866067, 'HF': 20.68561108919948, 'LFHF': 1.525474826090199, 'Patient': 'S0390', 'Count': '002'}\n",
      "\n",
      "\n",
      "\n",
      "In snippet folder Snippet000\n",
      "In snippet folder Snippet001\n",
      "In snippet folder Snippet002\n",
      "In snippet folder Snippet000\n",
      "In snippet folder Snippet001\n"
     ]
    },
    {
     "name": "stderr",
     "output_type": "stream",
     "text": [
      "\r",
      " 68%|███████████████████████████████████████████████████████▋                          | 38/56 [00:08<00:05,  3.30it/s]"
     ]
    },
    {
     "name": "stdout",
     "output_type": "stream",
     "text": [
      "{'SDNN': 75.92137839626913, 'RMSSD': 97.26798663738136, 'PNN50': 0.6756756756756757, 'LF': 12.439273934887428, 'HF': 18.55986515611989, 'LFHF': 0.6702243701800672, 'Patient': 'S0398', 'Count': '001'}\n",
      "\n",
      "\n",
      "\n",
      "In snippet folder Snippet000\n",
      "In snippet folder Snippet001\n",
      "In snippet folder Snippet002\n",
      "In snippet folder Snippet003\n",
      "In snippet folder Snippet004\n",
      "In snippet folder Snippet000\n",
      "In snippet folder Snippet001\n",
      "In snippet folder Snippet002\n",
      "In snippet folder Snippet000\n",
      "In snippet folder Snippet001\n",
      "In snippet folder Snippet002\n",
      "In snippet folder Snippet000\n"
     ]
    },
    {
     "name": "stderr",
     "output_type": "stream",
     "text": [
      "\r",
      " 75%|█████████████████████████████████████████████████████████████▌                    | 42/56 [00:08<00:03,  3.92it/s]"
     ]
    },
    {
     "name": "stdout",
     "output_type": "stream",
     "text": [
      "{'SDNN': 78.20604709505702, 'RMSSD': 109.90069706659307, 'PNN50': 1.0917030567685588, 'LF': 24.06709174451566, 'HF': 12.927908074798733, 'LFHF': 1.86163852691924, 'Patient': 'S0409', 'Count': '000'}\n",
      "\n",
      "\n",
      "\n",
      "In snippet folder Snippet000\n",
      "In snippet folder Snippet001\n",
      "In snippet folder Snippet002\n"
     ]
    },
    {
     "name": "stderr",
     "output_type": "stream",
     "text": [
      "\r",
      " 79%|████████████████████████████████████████████████████████████████▍                 | 44/56 [00:09<00:02,  4.20it/s]"
     ]
    },
    {
     "name": "stdout",
     "output_type": "stream",
     "text": [
      "{'SDNN': 93.41085042015386, 'RMSSD': 128.73783098410806, 'PNN50': 0.967741935483871, 'LF': 32.39456597716425, 'HF': 29.46026457340305, 'LFHF': 1.0996020044711448, 'Patient': 'S0416', 'Count': '002'}\n",
      "\n",
      "\n",
      "\n",
      "In snippet folder Snippet003\n",
      "In snippet folder Snippet004\n",
      "In snippet folder Snippet000\n",
      "In snippet folder Snippet001\n",
      "In snippet folder Snippet002\n",
      "In snippet folder Snippet003\n",
      "In snippet folder Snippet004\n"
     ]
    },
    {
     "name": "stderr",
     "output_type": "stream",
     "text": [
      "\r",
      " 80%|█████████████████████████████████████████████████████████████████▉                | 45/56 [00:09<00:03,  3.06it/s]"
     ]
    },
    {
     "name": "stdout",
     "output_type": "stream",
     "text": [
      "{'SDNN': 67.58779827009073, 'RMSSD': 93.54798896317773, 'PNN50': 0.2898550724637681, 'LF': 38.04774149548582, 'HF': 39.82002485311163, 'LFHF': 0.955492660686089, 'Patient': 'S0420', 'Count': '004'}\n",
      "\n",
      "\n",
      "\n",
      "In snippet folder Snippet000\n",
      "{'SDNN': 27.307740649204145, 'RMSSD': 12.435114614337019, 'PNN50': 0.3134796238244514, 'LF': 29.708832111371173, 'HF': 29.280031381856507, 'LFHF': 1.0146448179621956, 'Patient': 'S0423', 'Count': '000'}\n",
      "\n",
      "\n",
      "\n",
      "In snippet folder Snippet001\n",
      "In snippet folder Snippet002\n",
      "{'SDNN': 121.1257709294145, 'RMSSD': 133.22161128155173, 'PNN50': 2.3904382470119523, 'LF': 42.24820830605664, 'HF': 45.37848095396615, 'LFHF': 0.9310185669043222, 'Patient': 'S0423', 'Count': '002'}\n",
      "\n",
      "\n",
      "\n",
      "In snippet folder Snippet003\n",
      "{'SDNN': 114.81277882749544, 'RMSSD': 142.7805239109969, 'PNN50': 3.3057851239669422, 'LF': 42.22852024610723, 'HF': 52.4474087813692, 'LFHF': 0.8051593248798975, 'Patient': 'S0423', 'Count': '003'}\n",
      "\n",
      "\n",
      "\n",
      "In snippet folder Snippet004\n"
     ]
    },
    {
     "name": "stderr",
     "output_type": "stream",
     "text": [
      "\r",
      " 82%|███████████████████████████████████████████████████████████████████▎              | 46/56 [00:11<00:07,  1.39it/s]"
     ]
    },
    {
     "name": "stdout",
     "output_type": "stream",
     "text": [
      "{'SDNN': 37.06227191447537, 'RMSSD': 26.286252646379637, 'PNN50': 3.6885245901639343, 'LF': 52.943301530682284, 'HF': 47.69825919665844, 'LFHF': 1.1099629718644175, 'Patient': 'S0423', 'Count': '004'}\n",
      "\n",
      "\n",
      "\n",
      "In snippet folder Snippet000\n"
     ]
    },
    {
     "name": "stderr",
     "output_type": "stream",
     "text": [
      "\r",
      " 84%|████████████████████████████████████████████████████████████████████▊             | 47/56 [00:11<00:05,  1.60it/s]"
     ]
    },
    {
     "name": "stdout",
     "output_type": "stream",
     "text": [
      "{'SDNN': 56.88662089527274, 'RMSSD': 81.94437224418324, 'PNN50': 0.35211267605633806, 'LF': 11.101008243962777, 'HF': 15.480341037300938, 'LFHF': 0.7171035972149541, 'Patient': 'S0424', 'Count': '000'}\n",
      "\n",
      "\n",
      "\n",
      "In snippet folder Snippet001\n",
      "In snippet folder Snippet000\n",
      "In snippet folder Snippet001\n",
      "In snippet folder Snippet002\n",
      "{'SDNN': 162.05356407153326, 'RMSSD': 229.53130385297138, 'PNN50': 2.4390243902439024, 'LF': 21.558183268211014, 'HF': 33.17224577998246, 'LFHF': 0.6498861551671047, 'Patient': 'S0426', 'Count': '002'}\n",
      "\n",
      "\n",
      "\n",
      "In snippet folder Snippet003\n",
      "{'SDNN': 65.28387525152615, 'RMSSD': 82.80231210378616, 'PNN50': 8.256880733944955, 'LF': 30.402966045627295, 'HF': 46.054496911890965, 'LFHF': 0.6601519522359054, 'Patient': 'S0426', 'Count': '003'}\n",
      "\n",
      "\n",
      "\n",
      "In snippet folder Snippet004\n"
     ]
    },
    {
     "name": "stderr",
     "output_type": "stream",
     "text": [
      "\r",
      " 86%|██████████████████████████████████████████████████████████████████████▎           | 48/56 [00:13<00:06,  1.15it/s]"
     ]
    },
    {
     "name": "stdout",
     "output_type": "stream",
     "text": [
      "{'SDNN': 68.92870811730833, 'RMSSD': 97.21640120072529, 'PNN50': 2.2222222222222223, 'LF': 21.817404883492802, 'HF': 35.74286774543839, 'LFHF': 0.6103988364581407, 'Patient': 'S0426', 'Count': '004'}\n",
      "\n",
      "\n",
      "\n",
      "In snippet folder Snippet000\n",
      "In snippet folder Snippet001\n",
      "{'SDNN': 25.239195613835783, 'RMSSD': 31.14668587435317, 'PNN50': 5.442176870748299, 'LF': 19.766269701949913, 'HF': 47.46720042194582, 'LFHF': 0.4164195386760422, 'Patient': 'S0427', 'Count': '001'}\n",
      "\n",
      "\n",
      "\n",
      "In snippet folder Snippet002\n",
      "{'SDNN': 31.287439327134503, 'RMSSD': 24.413111231467404, 'PNN50': 4.2105263157894735, 'LF': 23.47350802293822, 'HF': 45.422595914143834, 'LFHF': 0.51678041623396, 'Patient': 'S0427', 'Count': '002'}\n",
      "\n",
      "\n",
      "\n",
      "In snippet folder Snippet003\n",
      "In snippet folder Snippet004\n"
     ]
    },
    {
     "name": "stderr",
     "output_type": "stream",
     "text": [
      "\r",
      " 88%|███████████████████████████████████████████████████████████████████████▊          | 49/56 [00:14<00:06,  1.01it/s]"
     ]
    },
    {
     "name": "stdout",
     "output_type": "stream",
     "text": [
      "{'SDNN': 28.237802346237082, 'RMSSD': 23.554149214214455, 'PNN50': 3.4129692832764507, 'LF': 24.638612267856956, 'HF': 40.90001513548919, 'LFHF': 0.6024108349651413, 'Patient': 'S0427', 'Count': '004'}\n",
      "\n",
      "\n",
      "\n",
      "In snippet folder Snippet000\n",
      "In snippet folder Snippet001\n",
      "In snippet folder Snippet002\n",
      "In snippet folder Snippet003\n"
     ]
    },
    {
     "name": "stderr",
     "output_type": "stream",
     "text": [
      "\r",
      " 89%|█████████████████████████████████████████████████████████████████████████▏        | 50/56 [00:15<00:05,  1.20it/s]"
     ]
    },
    {
     "name": "stdout",
     "output_type": "stream",
     "text": [
      "{'SDNN': 58.01693667846641, 'RMSSD': 78.82147895828484, 'PNN50': 0.3105590062111801, 'LF': 12.354673004681919, 'HF': 31.484445079633424, 'LFHF': 0.3924056140558716, 'Patient': 'S0430', 'Count': '003'}\n",
      "\n",
      "\n",
      "\n",
      "In snippet folder Snippet004\n",
      "In snippet folder Snippet000\n",
      "In snippet folder Snippet001\n",
      "In snippet folder Snippet002\n",
      "In snippet folder Snippet003\n",
      "In snippet folder Snippet004\n",
      "In snippet folder Snippet000\n",
      "In snippet folder Snippet001\n",
      "In snippet folder Snippet002\n",
      "In snippet folder Snippet003\n",
      "In snippet folder Snippet004\n",
      "In snippet folder Snippet000\n",
      "In snippet folder Snippet001\n"
     ]
    },
    {
     "name": "stderr",
     "output_type": "stream",
     "text": [
      "\r",
      " 95%|█████████████████████████████████████████████████████████████████████████████▌    | 53/56 [00:15<00:01,  1.57it/s]"
     ]
    },
    {
     "name": "stdout",
     "output_type": "stream",
     "text": [
      "{'SDNN': 119.86101948389496, 'RMSSD': 166.1012995522953, 'PNN50': 1.0101010101010102, 'LF': 16.23425145210002, 'HF': 14.070138590005046, 'LFHF': 1.1538089229364297, 'Patient': 'S0434', 'Count': '001'}\n",
      "\n",
      "\n",
      "\n",
      "In snippet folder Snippet002\n",
      "In snippet folder Snippet003\n",
      "In snippet folder Snippet004\n",
      "In snippet folder Snippet000\n",
      "{'SDNN': 89.79590603724279, 'RMSSD': 130.3078980917302, 'PNN50': 0.8438818565400843, 'LF': 12.301536545066673, 'HF': 18.45125764737972, 'LFHF': 0.6667045022166077, 'Patient': 'S0435', 'Count': '000'}\n",
      "\n",
      "\n",
      "\n",
      "In snippet folder Snippet001\n",
      "In snippet folder Snippet002\n",
      "In snippet folder Snippet003\n",
      "In snippet folder Snippet004\n"
     ]
    },
    {
     "name": "stderr",
     "output_type": "stream",
     "text": [
      "\r",
      " 96%|███████████████████████████████████████████████████████████████████████████████   | 54/56 [00:16<00:01,  1.46it/s]"
     ]
    },
    {
     "name": "stdout",
     "output_type": "stream",
     "text": [
      "{'SDNN': 24.130380824573542, 'RMSSD': 13.961412988361134, 'PNN50': 0.0, 'LF': 13.420500644565454, 'HF': 18.656644096201962, 'LFHF': 0.7193416230359211, 'Patient': 'S0435', 'Count': '004'}\n",
      "\n",
      "\n",
      "\n",
      "In snippet folder Snippet000\n",
      "In snippet folder Snippet001\n",
      "In snippet folder Snippet002\n"
     ]
    },
    {
     "name": "stderr",
     "output_type": "stream",
     "text": [
      "100%|██████████████████████████████████████████████████████████████████████████████████| 56/56 [00:16<00:00,  3.34it/s]"
     ]
    },
    {
     "name": "stdout",
     "output_type": "stream",
     "text": [
      "{'SDNN': 114.16276678729977, 'RMSSD': 156.71468071497415, 'PNN50': 10.191082802547772, 'LF': 88.09920954238842, 'HF': 76.0729957635649, 'LFHF': 1.1580878162889894, 'Patient': 'S0441', 'Count': '002'}\n",
      "\n",
      "\n",
      "\n",
      "In snippet folder Snippet003\n",
      "In snippet folder Snippet004\n"
     ]
    },
    {
     "name": "stderr",
     "output_type": "stream",
     "text": [
      "\n"
     ]
    }
   ],
   "source": [
    "rows = []\n",
    "\n",
    "patients = sorted(os.listdir(root))\n",
    "for pat in tqdm(patients):     #Looping throught the folder Sxxxx\n",
    "    if not pat.endswith(('.json', 'ini','\\r')):\n",
    "        path_pat = root+'/'+pat\n",
    "        folders = sorted(os.listdir(path_pat))\n",
    "        for folder in folders:    #Looping through the different ecg types \n",
    "            if not folder.endswith('.ini') and folder != 'Icon\\r':\n",
    "                path_folder = path_pat + '/' +folder   \n",
    "                snippets = sorted(os.listdir(path_folder))\n",
    "                for snip_folder in snippets:  #Looping through the snippet folders\n",
    "                    if not snip_folder.endswith(('.json', '.ftr', '.ini','\\r')):\n",
    "                        print(\"In snippet folder \" + snip_folder)\n",
    "                        \n",
    "                        ### NOW IN CORRECT FOLDER ###\n",
    "                        path_snip =path_folder + '/' + snip_folder\n",
    "                        if check_clean_valid(path_snip):\n",
    "                            rows.append(collect_row(path_snip, pat, snip_folder))\n",
    "                            print('\\n\\n')"
   ]
  },
  {
   "cell_type": "code",
   "execution_count": 13,
   "metadata": {},
   "outputs": [],
   "source": [
    "# Convert collected parameters into dataframe\n",
    "df = pd.DataFrame(rows)"
   ]
  },
  {
   "cell_type": "code",
   "execution_count": 14,
   "metadata": {},
   "outputs": [],
   "source": [
    "def clean_sMeta(root):\n",
    "    \"\"\"Reformats data in small MetaData file and saves it.\n",
    "    Input: Filepath for the folder the small MetaData file is in\"\"\"\n",
    "    #with open(root + '\\\\SMeta.json') as json_file:\n",
    "    with open(root + '/SMeta.json') as json_file:\n",
    "        sdf = pd.read_json(json_file, orient = 'index')\n",
    "        \n",
    "        # Set CAN classification to bool through mapping\n",
    "        #d = {'NO': False, 'YES': True}\n",
    "        #sdf['CAN Symptoms'] = sdf['Neuropathy AUTONOMIC SYMPTOMS'].map(d)\n",
    "        sdf['CAN Symptoms'] = sdf['Neuropathy AUTONOMIC SYMPTOMS']\n",
    "        \n",
    "        # Set DM/Control classification to bool through mapping\n",
    "        d = {'DM': True, 'CONTROL': False}\n",
    "        sdf['Diabetic'] = sdf['Group'].map(d)\n",
    "        \n",
    "        # Drop unnecessary columns\n",
    "        sdf.drop(columns=['Group'])\n",
    "        sdf.drop(columns=['Neuropathy AUTONOMIC SYMPTOMS'])\n",
    "        \n",
    "        # Save edited dataframe\n",
    "        sdf.to_json((root + '/SMeta.json'), orient='index')\n",
    "        json_file.close()\n",
    "        print(sdf)\n",
    "    return"
   ]
  },
  {
   "cell_type": "code",
   "execution_count": null,
   "metadata": {},
   "outputs": [],
   "source": [
    "#clean_sMeta(root)"
   ]
  },
  {
   "cell_type": "code",
   "execution_count": 15,
   "metadata": {},
   "outputs": [
    {
     "data": {
      "text/html": [
       "<div>\n",
       "<style scoped>\n",
       "    .dataframe tbody tr th:only-of-type {\n",
       "        vertical-align: middle;\n",
       "    }\n",
       "\n",
       "    .dataframe tbody tr th {\n",
       "        vertical-align: top;\n",
       "    }\n",
       "\n",
       "    .dataframe thead th {\n",
       "        text-align: right;\n",
       "    }\n",
       "</style>\n",
       "<table border=\"1\" class=\"dataframe\">\n",
       "  <thead>\n",
       "    <tr style=\"text-align: right;\">\n",
       "      <th></th>\n",
       "      <th>SDNN</th>\n",
       "      <th>RMSSD</th>\n",
       "      <th>PNN50</th>\n",
       "      <th>LF</th>\n",
       "      <th>HF</th>\n",
       "      <th>LFHF</th>\n",
       "      <th>Patient</th>\n",
       "      <th>Count</th>\n",
       "      <th>CAD</th>\n",
       "      <th>Diabetic</th>\n",
       "    </tr>\n",
       "  </thead>\n",
       "  <tbody>\n",
       "    <tr>\n",
       "      <th>0</th>\n",
       "      <td>9.388711</td>\n",
       "      <td>3.727564</td>\n",
       "      <td>0.000000</td>\n",
       "      <td>6.972245</td>\n",
       "      <td>5.052585</td>\n",
       "      <td>1.379936</td>\n",
       "      <td>S0250</td>\n",
       "      <td>001</td>\n",
       "      <td>False</td>\n",
       "      <td>True</td>\n",
       "    </tr>\n",
       "    <tr>\n",
       "      <th>1</th>\n",
       "      <td>19.935030</td>\n",
       "      <td>11.883779</td>\n",
       "      <td>0.000000</td>\n",
       "      <td>13.341491</td>\n",
       "      <td>19.309389</td>\n",
       "      <td>0.690933</td>\n",
       "      <td>S0273</td>\n",
       "      <td>000</td>\n",
       "      <td>True</td>\n",
       "      <td>True</td>\n",
       "    </tr>\n",
       "    <tr>\n",
       "      <th>2</th>\n",
       "      <td>23.382226</td>\n",
       "      <td>13.006799</td>\n",
       "      <td>0.000000</td>\n",
       "      <td>19.026569</td>\n",
       "      <td>24.836171</td>\n",
       "      <td>0.766083</td>\n",
       "      <td>S0273</td>\n",
       "      <td>001</td>\n",
       "      <td>True</td>\n",
       "      <td>True</td>\n",
       "    </tr>\n",
       "    <tr>\n",
       "      <th>3</th>\n",
       "      <td>63.105511</td>\n",
       "      <td>82.249815</td>\n",
       "      <td>0.354610</td>\n",
       "      <td>13.725900</td>\n",
       "      <td>24.004620</td>\n",
       "      <td>0.571802</td>\n",
       "      <td>S0273</td>\n",
       "      <td>002</td>\n",
       "      <td>True</td>\n",
       "      <td>True</td>\n",
       "    </tr>\n",
       "    <tr>\n",
       "      <th>4</th>\n",
       "      <td>30.022832</td>\n",
       "      <td>17.002152</td>\n",
       "      <td>1.612903</td>\n",
       "      <td>20.888081</td>\n",
       "      <td>14.231384</td>\n",
       "      <td>1.467748</td>\n",
       "      <td>S0282</td>\n",
       "      <td>002</td>\n",
       "      <td>False</td>\n",
       "      <td>True</td>\n",
       "    </tr>\n",
       "    <tr>\n",
       "      <th>5</th>\n",
       "      <td>8.048376</td>\n",
       "      <td>1.886577</td>\n",
       "      <td>0.000000</td>\n",
       "      <td>1.948780</td>\n",
       "      <td>3.007181</td>\n",
       "      <td>0.648042</td>\n",
       "      <td>S0283</td>\n",
       "      <td>002</td>\n",
       "      <td>True</td>\n",
       "      <td>False</td>\n",
       "    </tr>\n",
       "    <tr>\n",
       "      <th>6</th>\n",
       "      <td>44.351059</td>\n",
       "      <td>62.740660</td>\n",
       "      <td>0.299401</td>\n",
       "      <td>6.989108</td>\n",
       "      <td>14.514825</td>\n",
       "      <td>0.481515</td>\n",
       "      <td>S0288</td>\n",
       "      <td>001</td>\n",
       "      <td>False</td>\n",
       "      <td>True</td>\n",
       "    </tr>\n",
       "    <tr>\n",
       "      <th>7</th>\n",
       "      <td>8.737276</td>\n",
       "      <td>3.430068</td>\n",
       "      <td>0.000000</td>\n",
       "      <td>5.611292</td>\n",
       "      <td>4.736355</td>\n",
       "      <td>1.184728</td>\n",
       "      <td>S0300</td>\n",
       "      <td>001</td>\n",
       "      <td>False</td>\n",
       "      <td>True</td>\n",
       "    </tr>\n",
       "    <tr>\n",
       "      <th>8</th>\n",
       "      <td>31.674669</td>\n",
       "      <td>43.212536</td>\n",
       "      <td>0.301205</td>\n",
       "      <td>9.999720</td>\n",
       "      <td>8.540746</td>\n",
       "      <td>1.170825</td>\n",
       "      <td>S0310</td>\n",
       "      <td>000</td>\n",
       "      <td>True</td>\n",
       "      <td>True</td>\n",
       "    </tr>\n",
       "    <tr>\n",
       "      <th>9</th>\n",
       "      <td>11.532271</td>\n",
       "      <td>2.453353</td>\n",
       "      <td>0.000000</td>\n",
       "      <td>12.794287</td>\n",
       "      <td>4.941024</td>\n",
       "      <td>2.589400</td>\n",
       "      <td>S0317</td>\n",
       "      <td>000</td>\n",
       "      <td>True</td>\n",
       "      <td>True</td>\n",
       "    </tr>\n",
       "    <tr>\n",
       "      <th>10</th>\n",
       "      <td>11.628979</td>\n",
       "      <td>2.657429</td>\n",
       "      <td>0.000000</td>\n",
       "      <td>11.046269</td>\n",
       "      <td>4.628531</td>\n",
       "      <td>2.386560</td>\n",
       "      <td>S0317</td>\n",
       "      <td>001</td>\n",
       "      <td>True</td>\n",
       "      <td>True</td>\n",
       "    </tr>\n",
       "    <tr>\n",
       "      <th>11</th>\n",
       "      <td>17.353493</td>\n",
       "      <td>12.088973</td>\n",
       "      <td>0.000000</td>\n",
       "      <td>21.447789</td>\n",
       "      <td>22.024233</td>\n",
       "      <td>0.973827</td>\n",
       "      <td>S0318</td>\n",
       "      <td>002</td>\n",
       "      <td>False</td>\n",
       "      <td>True</td>\n",
       "    </tr>\n",
       "    <tr>\n",
       "      <th>12</th>\n",
       "      <td>21.730151</td>\n",
       "      <td>8.931981</td>\n",
       "      <td>0.000000</td>\n",
       "      <td>20.278088</td>\n",
       "      <td>14.761391</td>\n",
       "      <td>1.373725</td>\n",
       "      <td>S0326</td>\n",
       "      <td>000</td>\n",
       "      <td>True</td>\n",
       "      <td>True</td>\n",
       "    </tr>\n",
       "    <tr>\n",
       "      <th>13</th>\n",
       "      <td>39.004821</td>\n",
       "      <td>55.158659</td>\n",
       "      <td>0.297619</td>\n",
       "      <td>8.453702</td>\n",
       "      <td>33.688207</td>\n",
       "      <td>0.250940</td>\n",
       "      <td>S0366</td>\n",
       "      <td>002</td>\n",
       "      <td>False</td>\n",
       "      <td>True</td>\n",
       "    </tr>\n",
       "    <tr>\n",
       "      <th>14</th>\n",
       "      <td>95.187400</td>\n",
       "      <td>23.223454</td>\n",
       "      <td>1.355014</td>\n",
       "      <td>64.854560</td>\n",
       "      <td>46.647248</td>\n",
       "      <td>1.390319</td>\n",
       "      <td>S0368</td>\n",
       "      <td>001</td>\n",
       "      <td>False</td>\n",
       "      <td>False</td>\n",
       "    </tr>\n",
       "    <tr>\n",
       "      <th>15</th>\n",
       "      <td>34.442132</td>\n",
       "      <td>12.232309</td>\n",
       "      <td>0.636943</td>\n",
       "      <td>31.813602</td>\n",
       "      <td>20.596580</td>\n",
       "      <td>1.544606</td>\n",
       "      <td>S0372</td>\n",
       "      <td>000</td>\n",
       "      <td>False</td>\n",
       "      <td>True</td>\n",
       "    </tr>\n",
       "    <tr>\n",
       "      <th>16</th>\n",
       "      <td>43.873703</td>\n",
       "      <td>57.919661</td>\n",
       "      <td>0.792079</td>\n",
       "      <td>13.570441</td>\n",
       "      <td>13.186894</td>\n",
       "      <td>1.029085</td>\n",
       "      <td>S0381</td>\n",
       "      <td>002</td>\n",
       "      <td>False</td>\n",
       "      <td>True</td>\n",
       "    </tr>\n",
       "    <tr>\n",
       "      <th>17</th>\n",
       "      <td>43.185403</td>\n",
       "      <td>54.327109</td>\n",
       "      <td>0.220751</td>\n",
       "      <td>31.555379</td>\n",
       "      <td>20.685611</td>\n",
       "      <td>1.525475</td>\n",
       "      <td>S0390</td>\n",
       "      <td>002</td>\n",
       "      <td>False</td>\n",
       "      <td>True</td>\n",
       "    </tr>\n",
       "    <tr>\n",
       "      <th>18</th>\n",
       "      <td>75.921378</td>\n",
       "      <td>97.267987</td>\n",
       "      <td>0.675676</td>\n",
       "      <td>12.439274</td>\n",
       "      <td>18.559865</td>\n",
       "      <td>0.670224</td>\n",
       "      <td>S0398</td>\n",
       "      <td>001</td>\n",
       "      <td>False</td>\n",
       "      <td>True</td>\n",
       "    </tr>\n",
       "    <tr>\n",
       "      <th>19</th>\n",
       "      <td>78.206047</td>\n",
       "      <td>109.900697</td>\n",
       "      <td>1.091703</td>\n",
       "      <td>24.067092</td>\n",
       "      <td>12.927908</td>\n",
       "      <td>1.861639</td>\n",
       "      <td>S0409</td>\n",
       "      <td>000</td>\n",
       "      <td>False</td>\n",
       "      <td>True</td>\n",
       "    </tr>\n",
       "    <tr>\n",
       "      <th>20</th>\n",
       "      <td>93.410850</td>\n",
       "      <td>128.737831</td>\n",
       "      <td>0.967742</td>\n",
       "      <td>32.394566</td>\n",
       "      <td>29.460265</td>\n",
       "      <td>1.099602</td>\n",
       "      <td>S0416</td>\n",
       "      <td>002</td>\n",
       "      <td>False</td>\n",
       "      <td>True</td>\n",
       "    </tr>\n",
       "    <tr>\n",
       "      <th>21</th>\n",
       "      <td>67.587798</td>\n",
       "      <td>93.547989</td>\n",
       "      <td>0.289855</td>\n",
       "      <td>38.047741</td>\n",
       "      <td>39.820025</td>\n",
       "      <td>0.955493</td>\n",
       "      <td>S0420</td>\n",
       "      <td>004</td>\n",
       "      <td>False</td>\n",
       "      <td>True</td>\n",
       "    </tr>\n",
       "    <tr>\n",
       "      <th>22</th>\n",
       "      <td>27.307741</td>\n",
       "      <td>12.435115</td>\n",
       "      <td>0.313480</td>\n",
       "      <td>29.708832</td>\n",
       "      <td>29.280031</td>\n",
       "      <td>1.014645</td>\n",
       "      <td>S0423</td>\n",
       "      <td>000</td>\n",
       "      <td>False</td>\n",
       "      <td>True</td>\n",
       "    </tr>\n",
       "    <tr>\n",
       "      <th>23</th>\n",
       "      <td>121.125771</td>\n",
       "      <td>133.221611</td>\n",
       "      <td>2.390438</td>\n",
       "      <td>42.248208</td>\n",
       "      <td>45.378481</td>\n",
       "      <td>0.931019</td>\n",
       "      <td>S0423</td>\n",
       "      <td>002</td>\n",
       "      <td>False</td>\n",
       "      <td>True</td>\n",
       "    </tr>\n",
       "    <tr>\n",
       "      <th>24</th>\n",
       "      <td>114.812779</td>\n",
       "      <td>142.780524</td>\n",
       "      <td>3.305785</td>\n",
       "      <td>42.228520</td>\n",
       "      <td>52.447409</td>\n",
       "      <td>0.805159</td>\n",
       "      <td>S0423</td>\n",
       "      <td>003</td>\n",
       "      <td>False</td>\n",
       "      <td>True</td>\n",
       "    </tr>\n",
       "    <tr>\n",
       "      <th>25</th>\n",
       "      <td>37.062272</td>\n",
       "      <td>26.286253</td>\n",
       "      <td>3.688525</td>\n",
       "      <td>52.943302</td>\n",
       "      <td>47.698259</td>\n",
       "      <td>1.109963</td>\n",
       "      <td>S0423</td>\n",
       "      <td>004</td>\n",
       "      <td>False</td>\n",
       "      <td>True</td>\n",
       "    </tr>\n",
       "    <tr>\n",
       "      <th>26</th>\n",
       "      <td>56.886621</td>\n",
       "      <td>81.944372</td>\n",
       "      <td>0.352113</td>\n",
       "      <td>11.101008</td>\n",
       "      <td>15.480341</td>\n",
       "      <td>0.717104</td>\n",
       "      <td>S0424</td>\n",
       "      <td>000</td>\n",
       "      <td>False</td>\n",
       "      <td>True</td>\n",
       "    </tr>\n",
       "    <tr>\n",
       "      <th>27</th>\n",
       "      <td>162.053564</td>\n",
       "      <td>229.531304</td>\n",
       "      <td>2.439024</td>\n",
       "      <td>21.558183</td>\n",
       "      <td>33.172246</td>\n",
       "      <td>0.649886</td>\n",
       "      <td>S0426</td>\n",
       "      <td>002</td>\n",
       "      <td>False</td>\n",
       "      <td>True</td>\n",
       "    </tr>\n",
       "    <tr>\n",
       "      <th>28</th>\n",
       "      <td>65.283875</td>\n",
       "      <td>82.802312</td>\n",
       "      <td>8.256881</td>\n",
       "      <td>30.402966</td>\n",
       "      <td>46.054497</td>\n",
       "      <td>0.660152</td>\n",
       "      <td>S0426</td>\n",
       "      <td>003</td>\n",
       "      <td>False</td>\n",
       "      <td>True</td>\n",
       "    </tr>\n",
       "    <tr>\n",
       "      <th>29</th>\n",
       "      <td>68.928708</td>\n",
       "      <td>97.216401</td>\n",
       "      <td>2.222222</td>\n",
       "      <td>21.817405</td>\n",
       "      <td>35.742868</td>\n",
       "      <td>0.610399</td>\n",
       "      <td>S0426</td>\n",
       "      <td>004</td>\n",
       "      <td>False</td>\n",
       "      <td>True</td>\n",
       "    </tr>\n",
       "    <tr>\n",
       "      <th>30</th>\n",
       "      <td>25.239196</td>\n",
       "      <td>31.146686</td>\n",
       "      <td>5.442177</td>\n",
       "      <td>19.766270</td>\n",
       "      <td>47.467200</td>\n",
       "      <td>0.416420</td>\n",
       "      <td>S0427</td>\n",
       "      <td>001</td>\n",
       "      <td>False</td>\n",
       "      <td>False</td>\n",
       "    </tr>\n",
       "    <tr>\n",
       "      <th>31</th>\n",
       "      <td>31.287439</td>\n",
       "      <td>24.413111</td>\n",
       "      <td>4.210526</td>\n",
       "      <td>23.473508</td>\n",
       "      <td>45.422596</td>\n",
       "      <td>0.516780</td>\n",
       "      <td>S0427</td>\n",
       "      <td>002</td>\n",
       "      <td>False</td>\n",
       "      <td>False</td>\n",
       "    </tr>\n",
       "    <tr>\n",
       "      <th>32</th>\n",
       "      <td>28.237802</td>\n",
       "      <td>23.554149</td>\n",
       "      <td>3.412969</td>\n",
       "      <td>24.638612</td>\n",
       "      <td>40.900015</td>\n",
       "      <td>0.602411</td>\n",
       "      <td>S0427</td>\n",
       "      <td>004</td>\n",
       "      <td>False</td>\n",
       "      <td>False</td>\n",
       "    </tr>\n",
       "    <tr>\n",
       "      <th>33</th>\n",
       "      <td>58.016937</td>\n",
       "      <td>78.821479</td>\n",
       "      <td>0.310559</td>\n",
       "      <td>12.354673</td>\n",
       "      <td>31.484445</td>\n",
       "      <td>0.392406</td>\n",
       "      <td>S0430</td>\n",
       "      <td>003</td>\n",
       "      <td>False</td>\n",
       "      <td>True</td>\n",
       "    </tr>\n",
       "    <tr>\n",
       "      <th>34</th>\n",
       "      <td>119.861019</td>\n",
       "      <td>166.101300</td>\n",
       "      <td>1.010101</td>\n",
       "      <td>16.234251</td>\n",
       "      <td>14.070139</td>\n",
       "      <td>1.153809</td>\n",
       "      <td>S0434</td>\n",
       "      <td>001</td>\n",
       "      <td>False</td>\n",
       "      <td>True</td>\n",
       "    </tr>\n",
       "    <tr>\n",
       "      <th>35</th>\n",
       "      <td>89.795906</td>\n",
       "      <td>130.307898</td>\n",
       "      <td>0.843882</td>\n",
       "      <td>12.301537</td>\n",
       "      <td>18.451258</td>\n",
       "      <td>0.666705</td>\n",
       "      <td>S0435</td>\n",
       "      <td>000</td>\n",
       "      <td>False</td>\n",
       "      <td>False</td>\n",
       "    </tr>\n",
       "    <tr>\n",
       "      <th>36</th>\n",
       "      <td>24.130381</td>\n",
       "      <td>13.961413</td>\n",
       "      <td>0.000000</td>\n",
       "      <td>13.420501</td>\n",
       "      <td>18.656644</td>\n",
       "      <td>0.719342</td>\n",
       "      <td>S0435</td>\n",
       "      <td>004</td>\n",
       "      <td>False</td>\n",
       "      <td>False</td>\n",
       "    </tr>\n",
       "    <tr>\n",
       "      <th>37</th>\n",
       "      <td>114.162767</td>\n",
       "      <td>156.714681</td>\n",
       "      <td>10.191083</td>\n",
       "      <td>88.099210</td>\n",
       "      <td>76.072996</td>\n",
       "      <td>1.158088</td>\n",
       "      <td>S0441</td>\n",
       "      <td>002</td>\n",
       "      <td>False</td>\n",
       "      <td>False</td>\n",
       "    </tr>\n",
       "  </tbody>\n",
       "</table>\n",
       "</div>"
      ],
      "text/plain": [
       "          SDNN       RMSSD      PNN50         LF         HF      LFHF Patient  \\\n",
       "0     9.388711    3.727564   0.000000   6.972245   5.052585  1.379936   S0250   \n",
       "1    19.935030   11.883779   0.000000  13.341491  19.309389  0.690933   S0273   \n",
       "2    23.382226   13.006799   0.000000  19.026569  24.836171  0.766083   S0273   \n",
       "3    63.105511   82.249815   0.354610  13.725900  24.004620  0.571802   S0273   \n",
       "4    30.022832   17.002152   1.612903  20.888081  14.231384  1.467748   S0282   \n",
       "5     8.048376    1.886577   0.000000   1.948780   3.007181  0.648042   S0283   \n",
       "6    44.351059   62.740660   0.299401   6.989108  14.514825  0.481515   S0288   \n",
       "7     8.737276    3.430068   0.000000   5.611292   4.736355  1.184728   S0300   \n",
       "8    31.674669   43.212536   0.301205   9.999720   8.540746  1.170825   S0310   \n",
       "9    11.532271    2.453353   0.000000  12.794287   4.941024  2.589400   S0317   \n",
       "10   11.628979    2.657429   0.000000  11.046269   4.628531  2.386560   S0317   \n",
       "11   17.353493   12.088973   0.000000  21.447789  22.024233  0.973827   S0318   \n",
       "12   21.730151    8.931981   0.000000  20.278088  14.761391  1.373725   S0326   \n",
       "13   39.004821   55.158659   0.297619   8.453702  33.688207  0.250940   S0366   \n",
       "14   95.187400   23.223454   1.355014  64.854560  46.647248  1.390319   S0368   \n",
       "15   34.442132   12.232309   0.636943  31.813602  20.596580  1.544606   S0372   \n",
       "16   43.873703   57.919661   0.792079  13.570441  13.186894  1.029085   S0381   \n",
       "17   43.185403   54.327109   0.220751  31.555379  20.685611  1.525475   S0390   \n",
       "18   75.921378   97.267987   0.675676  12.439274  18.559865  0.670224   S0398   \n",
       "19   78.206047  109.900697   1.091703  24.067092  12.927908  1.861639   S0409   \n",
       "20   93.410850  128.737831   0.967742  32.394566  29.460265  1.099602   S0416   \n",
       "21   67.587798   93.547989   0.289855  38.047741  39.820025  0.955493   S0420   \n",
       "22   27.307741   12.435115   0.313480  29.708832  29.280031  1.014645   S0423   \n",
       "23  121.125771  133.221611   2.390438  42.248208  45.378481  0.931019   S0423   \n",
       "24  114.812779  142.780524   3.305785  42.228520  52.447409  0.805159   S0423   \n",
       "25   37.062272   26.286253   3.688525  52.943302  47.698259  1.109963   S0423   \n",
       "26   56.886621   81.944372   0.352113  11.101008  15.480341  0.717104   S0424   \n",
       "27  162.053564  229.531304   2.439024  21.558183  33.172246  0.649886   S0426   \n",
       "28   65.283875   82.802312   8.256881  30.402966  46.054497  0.660152   S0426   \n",
       "29   68.928708   97.216401   2.222222  21.817405  35.742868  0.610399   S0426   \n",
       "30   25.239196   31.146686   5.442177  19.766270  47.467200  0.416420   S0427   \n",
       "31   31.287439   24.413111   4.210526  23.473508  45.422596  0.516780   S0427   \n",
       "32   28.237802   23.554149   3.412969  24.638612  40.900015  0.602411   S0427   \n",
       "33   58.016937   78.821479   0.310559  12.354673  31.484445  0.392406   S0430   \n",
       "34  119.861019  166.101300   1.010101  16.234251  14.070139  1.153809   S0434   \n",
       "35   89.795906  130.307898   0.843882  12.301537  18.451258  0.666705   S0435   \n",
       "36   24.130381   13.961413   0.000000  13.420501  18.656644  0.719342   S0435   \n",
       "37  114.162767  156.714681  10.191083  88.099210  76.072996  1.158088   S0441   \n",
       "\n",
       "   Count    CAD  Diabetic  \n",
       "0    001  False      True  \n",
       "1    000   True      True  \n",
       "2    001   True      True  \n",
       "3    002   True      True  \n",
       "4    002  False      True  \n",
       "5    002   True     False  \n",
       "6    001  False      True  \n",
       "7    001  False      True  \n",
       "8    000   True      True  \n",
       "9    000   True      True  \n",
       "10   001   True      True  \n",
       "11   002  False      True  \n",
       "12   000   True      True  \n",
       "13   002  False      True  \n",
       "14   001  False     False  \n",
       "15   000  False      True  \n",
       "16   002  False      True  \n",
       "17   002  False      True  \n",
       "18   001  False      True  \n",
       "19   000  False      True  \n",
       "20   002  False      True  \n",
       "21   004  False      True  \n",
       "22   000  False      True  \n",
       "23   002  False      True  \n",
       "24   003  False      True  \n",
       "25   004  False      True  \n",
       "26   000  False      True  \n",
       "27   002  False      True  \n",
       "28   003  False      True  \n",
       "29   004  False      True  \n",
       "30   001  False     False  \n",
       "31   002  False     False  \n",
       "32   004  False     False  \n",
       "33   003  False      True  \n",
       "34   001  False      True  \n",
       "35   000  False     False  \n",
       "36   004  False     False  \n",
       "37   002  False     False  "
      ]
     },
     "execution_count": 15,
     "metadata": {},
     "output_type": "execute_result"
    }
   ],
   "source": [
    "lookup_patient(df, root)"
   ]
  },
  {
   "cell_type": "markdown",
   "metadata": {},
   "source": [
    "### Initial plots"
   ]
  },
  {
   "cell_type": "code",
   "execution_count": 16,
   "metadata": {},
   "outputs": [],
   "source": [
    "# Separating Dataframes\n",
    "DM_df = df.loc[df['Diabetic']]\n",
    "\n",
    "Control_df = df.loc[df['Diabetic'] == False]\n",
    "\n",
    "CAN_df = df.loc[df['CAD']]\n",
    "\n",
    "nCAN_df = df.loc[df['CAD'] == False]"
   ]
  },
  {
   "cell_type": "code",
   "execution_count": 17,
   "metadata": {},
   "outputs": [
    {
     "ename": "IndexError",
     "evalue": "list index out of range",
     "output_type": "error",
     "traceback": [
      "\u001b[1;31m---------------------------------------------------------------------------\u001b[0m",
      "\u001b[1;31mIndexError\u001b[0m                                Traceback (most recent call last)",
      "\u001b[1;32m<ipython-input-17-1234d90db8c4>\u001b[0m in \u001b[0;36m<module>\u001b[1;34m\u001b[0m\n\u001b[0;32m     18\u001b[0m \u001b[1;33m\u001b[0m\u001b[0m\n\u001b[0;32m     19\u001b[0m \u001b[1;32mfor\u001b[0m \u001b[0mi\u001b[0m\u001b[1;33m,\u001b[0m \u001b[0mx_i\u001b[0m \u001b[1;32min\u001b[0m \u001b[0menumerate\u001b[0m\u001b[1;33m(\u001b[0m\u001b[0mx\u001b[0m\u001b[1;33m)\u001b[0m\u001b[1;33m:\u001b[0m\u001b[1;33m\u001b[0m\u001b[1;33m\u001b[0m\u001b[0m\n\u001b[1;32m---> 20\u001b[1;33m     \u001b[1;32mfor\u001b[0m \u001b[0mz_ij\u001b[0m \u001b[1;32min\u001b[0m \u001b[0mzs\u001b[0m\u001b[1;33m[\u001b[0m\u001b[0mi\u001b[0m\u001b[1;33m]\u001b[0m\u001b[1;33m:\u001b[0m\u001b[1;33m\u001b[0m\u001b[1;33m\u001b[0m\u001b[0m\n\u001b[0m\u001b[0;32m     21\u001b[0m         \u001b[0max\u001b[0m\u001b[1;33m.\u001b[0m\u001b[0mscatter\u001b[0m\u001b[1;33m(\u001b[0m\u001b[0mxs\u001b[0m\u001b[1;33m=\u001b[0m\u001b[0mx_i\u001b[0m\u001b[1;33m,\u001b[0m \u001b[0mys\u001b[0m\u001b[1;33m=\u001b[0m\u001b[0my\u001b[0m\u001b[1;33m[\u001b[0m\u001b[0mi\u001b[0m\u001b[1;33m]\u001b[0m\u001b[1;33m,\u001b[0m \u001b[0mzs\u001b[0m\u001b[1;33m=\u001b[0m\u001b[0mz_ij\u001b[0m\u001b[1;33m,\u001b[0m \u001b[0mzdir\u001b[0m\u001b[1;33m=\u001b[0m\u001b[1;34m'z'\u001b[0m\u001b[1;33m)\u001b[0m\u001b[1;33m\u001b[0m\u001b[1;33m\u001b[0m\u001b[0m\n\u001b[0;32m     22\u001b[0m \u001b[0mplt\u001b[0m\u001b[1;33m.\u001b[0m\u001b[0mshow\u001b[0m\u001b[1;33m(\u001b[0m\u001b[1;33m)\u001b[0m\u001b[1;33m\u001b[0m\u001b[1;33m\u001b[0m\u001b[0m\n",
      "\u001b[1;31mIndexError\u001b[0m: list index out of range"
     ]
    },
    {
     "data": {
      "image/png": "[encoded data removed]",
      "text/plain": [
       "<Figure size 432x288 with 1 Axes>"
      ]
     },
     "metadata": {
      "needs_background": "light"
     },
     "output_type": "display_data"
    },
    {
     "data": {
      "image/png": "[encoded data removed]",
      "text/plain": [
       "<Figure size 432x288 with 1 Axes>"
      ]
     },
     "metadata": {
      "needs_background": "light"
     },
     "output_type": "display_data"
    }
   ],
   "source": [
    "from mpl_toolkits import mplot3d\n",
    "ax = plt.axes(projection='3d')\n",
    "\n",
    "x = np.arange(0,10,1)\n",
    "y = np.arange(0,10,1)\n",
    "\n",
    "z1 = Control_df['SDNN']\n",
    "z4 = CAN_df['SDNN']\n",
    "z3 = nCAN_df['SDNN']\n",
    "z2 = DM_df['SDNN']\n",
    "\n",
    "zs = [\n",
    "    z1, z2, z3, z4\n",
    "]\n",
    "\n",
    "fig = plt.figure()\n",
    "ax = fig.add_subplot(111, projection='3d')\n",
    "\n",
    "for i, x_i in enumerate(x):\n",
    "    for z_ij in zs[i]:\n",
    "        ax.scatter(xs=x_i, ys=y[i], zs=z_ij, zdir='z')\n",
    "plt.show()"
   ]
  },
  {
   "cell_type": "code",
   "execution_count": 18,
   "metadata": {},
   "outputs": [
    {
     "data": {
      "image/png": "[encoded data removed]",
      "text/plain": [
       "<Figure size 1440x720 with 6 Axes>"
      ]
     },
     "metadata": {
      "needs_background": "light"
     },
     "output_type": "display_data"
    }
   ],
   "source": [
    "fig, axs = plt.subplots(2,3, figsize=(20,10))\n",
    "\n",
    "fig.suptitle('Parameter values for CAD and Non-CAD Patients', fontsize=16)\n",
    "\n",
    "lst = [1] * len(CAN_df['RMSSD'])\n",
    "lst2 = [2] * len(nCAN_df['RMSSD'])\n",
    "\n",
    "groups = ('CAN', 'Non-CAN')\n",
    "\n",
    "axs[0, 0].scatter(CAN_df['SDNN'], lst)\n",
    "axs[0, 0].scatter(nCAN_df['SDNN'], lst2)\n",
    "axs[0, 0].boxplot([CAN_df['SDNN'], nCAN_df['SDNN']], vert = False)\n",
    "axs[0,0].set_ylim([0.25, 2.75])\n",
    "axs[0,0].set_yticks((1,2))\n",
    "axs[0,0].set_yticklabels(groups)\n",
    "axs[0,0].set_title('SDNN Values (ms)')\n",
    "\n",
    "axs[0, 1].scatter(CAN_df['RMSSD'], lst)\n",
    "axs[0, 1].scatter(nCAN_df['RMSSD'], lst2)\n",
    "axs[0, 1].boxplot([CAN_df['RMSSD'], nCAN_df['RMSSD']], vert = False)\n",
    "axs[0,1].set_ylim([0.25, 2.75])\n",
    "axs[0,1].set_yticks((1,2))\n",
    "axs[0,1].set_yticklabels(groups)\n",
    "axs[0,1].set_title('RMSSD Values (ms)')\n",
    "\n",
    "axs[0, 2].scatter(CAN_df['PNN50'], lst)\n",
    "axs[0, 2].scatter(nCAN_df['PNN50'], lst2)\n",
    "axs[0, 2].boxplot([CAN_df['PNN50'], nCAN_df['PNN50']], vert = False)\n",
    "axs[0,2].set_ylim([0.25, 2.75])\n",
    "axs[0,2].set_yticks((1,2))\n",
    "axs[0,2].set_yticklabels(groups)\n",
    "axs[0,2].set_title('PNN50 Values')\n",
    "\n",
    "axs[1, 0].scatter(CAN_df['LF'], lst)\n",
    "axs[1, 0].scatter(nCAN_df['LF'], lst2)\n",
    "axs[1, 0].boxplot([CAN_df['LF'], nCAN_df['LF']], vert = False)\n",
    "axs[1,0].set_ylim([0.25, 2.75])\n",
    "axs[1,0].set_yticks((1,2))\n",
    "axs[1,0].set_yticklabels(groups)\n",
    "axs[1,0].set_title('LF Values (ms2)')\n",
    "\n",
    "axs[1, 1].scatter(CAN_df['HF'], lst)\n",
    "axs[1, 1].scatter(nCAN_df['HF'], lst2)\n",
    "axs[1, 1].boxplot([CAN_df['HF'], nCAN_df['HF']], vert = False)\n",
    "axs[1,1].set_ylim([0.25, 2.75])\n",
    "axs[1,1].set_yticks((1,2))\n",
    "axs[1,1].set_yticklabels(groups)\n",
    "axs[1,1].set_title('HF Values (ms2)')\n",
    "\n",
    "axs[1,2].scatter(CAN_df['LFHF'], lst)\n",
    "axs[1,2].scatter(nCAN_df['LFHF'], lst2)\n",
    "axs[1,2].boxplot([CAN_df['LFHF'], nCAN_df['LFHF']], vert = False)\n",
    "axs[1,2].set_ylim([0.25, 2.75])\n",
    "axs[1,2].set_yticks((1,2))\n",
    "axs[1,2].set_yticklabels(groups)\n",
    "axs[1,2].set_title('LFHF Values')\n",
    "plt.show()"
   ]
  },
  {
   "cell_type": "code",
   "execution_count": 19,
   "metadata": {},
   "outputs": [
    {
     "data": {
      "image/png": "[encoded data removed]",
      "text/plain": [
       "<Figure size 1440x720 with 6 Axes>"
      ]
     },
     "metadata": {
      "needs_background": "light"
     },
     "output_type": "display_data"
    }
   ],
   "source": [
    "fig, axs = plt.subplots(2,3, figsize=(20,10))\n",
    "\n",
    "fig.suptitle('Parameter values for Diabetic and Non-diabetic Patients', fontsize=16)\n",
    "\n",
    "lst = [1] * len(DM_df['RMSSD'])\n",
    "lst2 = [2] * len(Control_df['RMSSD'])\n",
    "\n",
    "groups = ('Diabetic', 'Non-Diabetic')\n",
    "\n",
    "axs[0, 0].scatter(DM_df['SDNN'], lst)\n",
    "axs[0, 0].scatter(Control_df['SDNN'], lst2)\n",
    "axs[0, 0].boxplot([DM_df['SDNN'], Control_df['SDNN']], vert = False)\n",
    "axs[0,0].set_ylim([0.25, 2.75])\n",
    "axs[0,0].set_yticks((1,2))\n",
    "axs[0,0].set_yticklabels(groups)\n",
    "axs[0,0].set_title('SDNN Values (ms)')\n",
    "\n",
    "axs[0, 1].scatter(DM_df['RMSSD'], lst)\n",
    "axs[0, 1].scatter(Control_df['RMSSD'], lst2)\n",
    "axs[0, 1].boxplot([DM_df['RMSSD'], Control_df['RMSSD']], vert = False)\n",
    "axs[0,1].set_ylim([0.25, 2.75])\n",
    "axs[0,1].set_yticks((1,2))\n",
    "axs[0,1].set_yticklabels(groups)\n",
    "axs[0,1].set_title('RMSSD Values (ms)')\n",
    "\n",
    "axs[0, 2].scatter(DM_df['PNN50'], lst)\n",
    "axs[0, 2].scatter(Control_df['PNN50'], lst2)\n",
    "axs[0, 2].boxplot([DM_df['PNN50'], Control_df['PNN50']], vert = False)\n",
    "axs[0,2].set_ylim([0.25, 2.75])\n",
    "axs[0,2].set_yticks((1,2))\n",
    "axs[0,2].set_yticklabels(groups)\n",
    "axs[0,2].set_title('PNN50 Values')\n",
    "\n",
    "axs[1, 0].scatter(DM_df['LF'], lst)\n",
    "axs[1, 0].scatter(Control_df['LF'], lst2)\n",
    "axs[1, 0].boxplot([DM_df['LF'], Control_df['LF']], vert = False)\n",
    "axs[1,0].set_ylim([0.25, 2.75])\n",
    "axs[1,0].set_yticks((1,2))\n",
    "axs[1,0].set_yticklabels(groups)\n",
    "axs[1,0].set_title('LF Values (ms2)')\n",
    "\n",
    "axs[1, 1].scatter(DM_df['HF'], lst)\n",
    "axs[1, 1].scatter(Control_df['HF'], lst2)\n",
    "axs[1, 1].boxplot([DM_df['HF'], Control_df['HF']], vert = False)\n",
    "axs[1,1].set_ylim([0.25, 2.75])\n",
    "axs[1,1].set_yticks((1,2))\n",
    "axs[1,1].set_yticklabels(groups)\n",
    "axs[1,1].set_title('HF Values (ms2)')\n",
    "\n",
    "axs[1,2].scatter(DM_df['LFHF'], lst)\n",
    "axs[1,2].scatter(Control_df['LFHF'], lst2)\n",
    "axs[1,2].boxplot([DM_df['LFHF'], Control_df['LFHF']], vert = False)\n",
    "axs[1,2].set_ylim([0.25, 2.75])\n",
    "axs[1,2].set_yticks((1,2))\n",
    "axs[1,2].set_yticklabels(groups)\n",
    "axs[1,2].set_title('LFHF Values')\n",
    "plt.show()"
   ]
  },
  {
   "cell_type": "markdown",
   "metadata": {},
   "source": [
    "## Stat test application\n",
    "### Mann-Whitney Test\n",
    "https://docs.scipy.org/doc/scipy/reference/generated/scipy.stats.mannwhitneyu.html\n",
    "\n",
    "Nonparametric testing if there is a statistically significant difference in the distribution of the HRV Parameters in CAN/Diabetic patients vs Non-CAN/Control patients.\n",
    "\n",
    "Null Hypothesis is that the distributions are the same."
   ]
  },
  {
   "cell_type": "code",
   "execution_count": 26,
   "metadata": {},
   "outputs": [],
   "source": [
    "def MannWhit(df1, df2, parameter):\n",
    "    # First value retuned is the test statistic for the first array inputted\n",
    "    _, p = mannwhitneyu(df1[parameter], df2[parameter])\n",
    "    print(\"Probability that the difference in distributions for the \"+ parameter+ \" parameter is due to chance: \"+ p)\n",
    "\n",
    "\n",
    "# # Or One-sided test where you check if the first is significantly less than the second\n",
    "# _, p = mannwhitneyu(Control_df['RMSSD'], DM_df['RMSSD'], alternative=\"less\")\n",
    "# print(p) #Same!"
   ]
  },
  {
   "cell_type": "markdown",
   "metadata": {},
   "source": [
    "### Chi squared Test\n",
    "https://docs.scipy.org/doc/scipy/reference/generated/scipy.stats.chisquare.html\n",
    "\n",
    "Some points:\n",
    "- Tests for independence!\n",
    "- Total number of samples recommended to be greater than 13 otherwise may overreject"
   ]
  }
 ],
 "metadata": {
  "kernelspec": {
   "display_name": "Python 3",
   "language": "python",
   "name": "python3"
  },
  "language_info": {
   "codemirror_mode": {
    "name": "ipython",
    "version": 3
   },
   "file_extension": ".py",
   "mimetype": "text/x-python",
   "name": "python",
   "nbconvert_exporter": "python",
   "pygments_lexer": "ipython3",
   "version": "3.7.6"
  }
 },
 "nbformat": 4,
 "nbformat_minor": 4
}
