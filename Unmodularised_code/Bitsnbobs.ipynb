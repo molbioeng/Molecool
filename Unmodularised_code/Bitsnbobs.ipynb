{
 "cells": [
  {
   "cell_type": "code",
   "execution_count": null,
   "metadata": {},
   "outputs": [],
   "source": [
    "### Used for parsing the large ECG signals ###\n",
    "#from datetime import datetime\n",
    "#sleep = '22:00:00' #Patients lie down at 22:00\n",
    "#FMT = '%H:%M:%S' #format"
   ]
  },
  {
   "cell_type": "code",
   "execution_count": null,
   "metadata": {},
   "outputs": [],
   "source": [
    "#         #First 12 minutes are during the walking test\n",
    "#         df_walk = df.iloc[:720000]\n",
    "#         feather.write_feather(df_walk, (root + '/formatted_data/' + file[:-7].upper() + '/walk.ftr'))\n",
    "#         print('> Walk file written')\n",
    "        \n",
    "#         #Patients asked to lie down from 22:00\n",
    "#         tdelta = datetime.strptime(sleep, FMT) - datetime.strptime(start_time, FMT) # Difference between the start time and start of sleep\n",
    "#         sleep_samp = int(tdelta.total_seconds()*1000)\n",
    "#         if sleep_samp < int(total_samples): #If the reading lasts until 22:00, create a sleeping folder\n",
    "#             df_sleep = df.iloc[sleep_samp:]\n",
    "#             feather.write_feather(df_walk, (root + '/formatted_data/' + file[:-7].upper() + '/sleep.ftr'))\n",
    "#             print('> Sleep file written')\n",
    "            \n",
    "        #sleeptime = #time to sleep df.iloc[1001:,:]\n",
    "        #If the ECG is still reading during "
   ]
  }
 ],
 "metadata": {
  "kernelspec": {
   "display_name": "Python 3",
   "language": "python",
   "name": "python3"
  },
  "language_info": {
   "codemirror_mode": {
    "name": "ipython",
    "version": 3
   },
   "file_extension": ".py",
   "mimetype": "text/x-python",
   "name": "python",
   "nbconvert_exporter": "python",
   "pygments_lexer": "ipython3",
   "version": "3.7.6"
  }
 },
 "nbformat": 4,
 "nbformat_minor": 4
}
